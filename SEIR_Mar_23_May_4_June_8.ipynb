{
 "cells": [
  {
   "cell_type": "code",
   "execution_count": 1,
   "metadata": {},
   "outputs": [
    {
     "name": "stdout",
     "output_type": "stream",
     "text": [
      "Collecting git+https://github.com/Priesemann-Group/covid19_inference_forecast.git\n",
      "  Cloning https://github.com/Priesemann-Group/covid19_inference_forecast.git to /private/var/folders/qr/hdfcfrpx0hj50l5g7lwg7ygc0000gn/T/pip-req-build-ioc_rx1d\n",
      "  Running command git clone -q https://github.com/Priesemann-Group/covid19_inference_forecast.git /private/var/folders/qr/hdfcfrpx0hj50l5g7lwg7ygc0000gn/T/pip-req-build-ioc_rx1d\n",
      "  warning: the following paths have collided (e.g. case-sensitive paths\n",
      "  on a case-insensitive filesystem) and only one from the same\n",
      "  colliding group is in the working tree:\n",
      "\n",
      "    'DISCLAIMER.md'\n",
      "    'disclaimer.md'\n",
      "Requirement already satisfied (use --upgrade to upgrade): covid19-inference==0.0.10 from git+https://github.com/Priesemann-Group/covid19_inference_forecast.git in /Users/jessica/opt/anaconda3/lib/python3.7/site-packages\n",
      "Building wheels for collected packages: covid19-inference\n",
      "  Building wheel for covid19-inference (setup.py) ... \u001b[?25ldone\n",
      "\u001b[?25h  Created wheel for covid19-inference: filename=covid19_inference-0.0.10-py3-none-any.whl size=27625 sha256=b98ae31868ce3ea26cb48aed818fb8189655a6f8670fa2cf84768a328767bbaa\n",
      "  Stored in directory: /private/var/folders/qr/hdfcfrpx0hj50l5g7lwg7ygc0000gn/T/pip-ephem-wheel-cache-d4iopt8o/wheels/cc/33/51/375e62e25122e2286fa440949767c3f7f3e2e75f7a2cd4ca7e\n",
      "Successfully built covid19-inference\n"
     ]
    }
   ],
   "source": [
    "!pip install git+https://github.com/Priesemann-Group/covid19_inference_forecast.git"
   ]
  },
  {
   "cell_type": "code",
   "execution_count": 5,
   "metadata": {},
   "outputs": [
    {
     "name": "stdout",
     "output_type": "stream",
     "text": [
      "pr_beta_I_begin was set to default value 100\n",
      "pr_beta_E_begin_scale was set to default value 10\n",
      "pr_median_lambda_0 was set to default value 2\n",
      "pr_sigma_lambda_0 was set to default value 0.7\n",
      "pr_median_mu was set to default value 0.3333333333333333\n",
      "pr_sigma_mu was set to default value 0.3\n",
      "pr_median_delay was set to default value 5\n",
      "pr_sigma_delay was set to default value 0.2\n",
      "scale_delay was set to default value 0.3\n",
      "pr_beta_sigma_obs was set to default value 10\n",
      "pr_mean_median_incubation was set to default value 5\n",
      "pr_sigma_median_incubation was set to default value 1\n",
      "sigma_incubation was set to default value 0.418\n",
      "week_end_days was set to default value (6, 7)\n",
      "pr_mean_weekend_factor was set to default value 0.7\n",
      "pr_sigma_weekend_factor was set to default value 0.17\n",
      "pr_sigma_date_begin_transient of change point 0 was set to default value 3\n",
      "pr_median_transient_len of change point 0 was set to default value 3\n",
      "pr_median_transient_len of change point 1 was set to default value 3\n",
      "pr_median_transient_len of change point 2 was set to default value 3\n",
      "pr_sigma_transient_len of change point 0 was set to default value 0.3\n",
      "pr_sigma_transient_len of change point 1 was set to default value 0.3\n",
      "pr_sigma_transient_len of change point 2 was set to default value 0.3\n"
     ]
    },
    {
     "name": "stderr",
     "output_type": "stream",
     "text": [
      "Auto-assigning NUTS sampler...\n",
      "Initializing NUTS using advi...\n"
     ]
    },
    {
     "data": {
      "text/html": [
       "\n",
       "    <div>\n",
       "        <style>\n",
       "            /* Turns off some styling */\n",
       "            progress {\n",
       "                /* gets rid of default border in Firefox and Opera. */\n",
       "                border: none;\n",
       "                /* Needs to be in here for Safari polyfill so background images work as expected. */\n",
       "                background-size: auto;\n",
       "            }\n",
       "            .progress-bar-interrupted, .progress-bar-interrupted::-webkit-progress-bar {\n",
       "                background: #F44336;\n",
       "            }\n",
       "        </style>\n",
       "      <progress value='29199' class='' max='200000' style='width:300px; height:20px; vertical-align: middle;'></progress>\n",
       "      14.60% [29199/200000 1:06:13<6:27:21 Average Loss = 1,259.4]\n",
       "    </div>\n",
       "    "
      ],
      "text/plain": [
       "<IPython.core.display.HTML object>"
      ]
     },
     "metadata": {},
     "output_type": "display_data"
    },
    {
     "name": "stderr",
     "output_type": "stream",
     "text": [
      "Convergence achieved at 29200\n",
      "Interrupted at 29,199 [14%]: Average Loss = 1,594.4\n",
      "Multiprocess sampling (2 chains in 2 jobs)\n",
      "NUTS: [offset_modulation_rad, weekend_factor, median_incubation, sigma_obs, delay, mu, transient_len_2, transient_len_1, transient_len_0, transient_begin_2, transient_begin_1, transient_begin_0, lambda_3, lambda_2, lambda_1, lambda_0, E_begin, E_begin_scale, I_begin]\n"
     ]
    },
    {
     "data": {
      "text/html": [
       "\n",
       "    <div>\n",
       "        <style>\n",
       "            /* Turns off some styling */\n",
       "            progress {\n",
       "                /* gets rid of default border in Firefox and Opera. */\n",
       "                border: none;\n",
       "                /* Needs to be in here for Safari polyfill so background images work as expected. */\n",
       "                background-size: auto;\n",
       "            }\n",
       "            .progress-bar-interrupted, .progress-bar-interrupted::-webkit-progress-bar {\n",
       "                background: #F44336;\n",
       "            }\n",
       "        </style>\n",
       "      <progress value='4000' class='' max='4000' style='width:300px; height:20px; vertical-align: middle;'></progress>\n",
       "      100.00% [4000/4000 48:08:33<00:00 Sampling 2 chains, 1 divergences]\n",
       "    </div>\n",
       "    "
      ],
      "text/plain": [
       "<IPython.core.display.HTML object>"
      ]
     },
     "metadata": {},
     "output_type": "display_data"
    },
    {
     "name": "stderr",
     "output_type": "stream",
     "text": [
      "Sampling 2 chains for 1_000 tune and 1_000 draw iterations (2_000 + 2_000 draws total) took 173318 seconds.\n",
      "The chain reached the maximum tree depth. Increase max_treedepth, increase target_accept or reparameterize.\n",
      "There was 1 divergence after tuning. Increase `target_accept` or reparameterize.\n",
      "The chain reached the maximum tree depth. Increase max_treedepth, increase target_accept or reparameterize.\n",
      "The estimated number of effective samples is smaller than 200 for some parameters.\n"
     ]
    }
   ],
   "source": [
    "import sys\n",
    "sys.path.append('../..')\n",
    "import datetime\n",
    "import pickle\n",
    "\n",
    "import numpy as np\n",
    "import pymc3 as pm\n",
    "import matplotlib.pyplot as plt\n",
    "import scipy.stats\n",
    "import matplotlib\n",
    "\n",
    "try: \n",
    "    import covid19_inference as cov19\n",
    "except ModuleNotFoundError:\n",
    "    sys.path.append('..')\n",
    "    import covid19_inference as cov19\n",
    "    \n",
    "\n",
    "\n",
    "confirmed_cases = cov19.get_jhu_confirmed_cases()\n",
    "\n",
    "date_data_begin = datetime.datetime(2020,3,8)\n",
    "date_data_end   = cov19.get_last_date(confirmed_cases)\n",
    "num_days_data = (date_data_end-date_data_begin).days\n",
    "diff_data_sim = 12 # should be significantly larger than the expected delay, in \n",
    "                   # order to always fit the same number of data points.\n",
    "num_days_future = 365\n",
    "date_begin_sim = date_data_begin - datetime.timedelta(days = diff_data_sim)\n",
    "date_end_sim   = date_data_end   + datetime.timedelta(days = num_days_future)\n",
    "num_days_sim = (date_end_sim-date_begin_sim).days\n",
    "\n",
    "country = 'US'\n",
    "\n",
    "cases_obs = cov19.filter_one_country(confirmed_cases, country,\n",
    "                                     date_data_begin, date_data_end)\n",
    "\n",
    "prior_date_mild_dist_begin =  datetime.datetime(2020,3,23)\n",
    "prior_date_strong_dist_begin =  datetime.datetime(2020,5,4)\n",
    "prior_date_contact_ban_begin =  datetime.datetime(2020,6,8)\n",
    "\n",
    "change_points = [dict(pr_mean_date_begin_transient = prior_date_mild_dist_begin,\n",
    "                      pr_median_lambda = 0.25,\n",
    "                      pr_sigma_lambda = 1),\n",
    "                 dict(pr_mean_date_begin_transient = prior_date_strong_dist_begin,\n",
    "                      pr_sigma_date_begin_transient = 1,\n",
    "                      pr_median_lambda = 0.2,\n",
    "                      pr_sigma_lambda = 1),\n",
    "                 dict(pr_mean_date_begin_transient = prior_date_contact_ban_begin,\n",
    "                      pr_sigma_date_begin_transient = 1,\n",
    "                      pr_median_lambda = 0.4,\n",
    "                      pr_sigma_lambda = 1)]\n",
    "\n",
    "traces = []\n",
    "models = []\n",
    "\n",
    "model = cov19.SEIR_with_extensions(np.diff(cases_obs),\n",
    "                                    change_points,\n",
    "                                    date_begin_sim,\n",
    "                                    num_days_sim,\n",
    "                                    diff_data_sim, \n",
    "                                    N=328e6,\n",
    "                                    priors_dict=None,\n",
    "                                    with_random_walk=False,\n",
    "                                    weekends_modulated=True,\n",
    "                                    weekend_modulation_type = 'abs_sine')\n",
    "\n",
    "models.append(model)\n",
    "\n",
    "traces.append(pm.sample(model=model, init='advi', draws=1000))"
   ]
  },
  {
   "cell_type": "code",
   "execution_count": 6,
   "metadata": {},
   "outputs": [
    {
     "name": "stderr",
     "output_type": "stream",
     "text": [
      "/Users/jessica/opt/anaconda3/lib/python3.7/site-packages/arviz/data/io_pymc3.py:89: FutureWarning: Using `from_pymc3` without the model will be deprecated in a future release. Not using the model will return less accurate and less useful results. Make sure you use the model argument or call from_pymc3 within a model context.\n",
      "  FutureWarning,\n"
     ]
    },
    {
     "name": "stdout",
     "output_type": "stream",
     "text": [
      "Computed from 2000 by 117 log-likelihood matrix\n",
      "\n",
      "         Estimate       SE\n",
      "elpd_loo -1069.84     9.84\n",
      "p_loo       15.39        -\n",
      "------\n",
      "\n",
      "Pareto k diagnostic values:\n",
      "                         Count   Pct.\n",
      "(-Inf, 0.5]   (good)      115   98.3%\n",
      " (0.5, 0.7]   (ok)          2    1.7%\n",
      "   (0.7, 1]   (bad)         0    0.0%\n",
      "   (1, Inf)   (very bad)    0    0.0%\n",
      "\n",
      "\n",
      "The scale is now log by default. Use 'scale' argument or 'stats.ic_scale' rcParam if\n",
      "you rely on a specific value.\n",
      "A higher log-score (or a lower deviance) indicates a model with better predictive\n",
      "accuracy.\n"
     ]
    }
   ],
   "source": [
    "print(pm.loo(traces[0], model))"
   ]
  },
  {
   "cell_type": "code",
   "execution_count": 9,
   "metadata": {},
   "outputs": [],
   "source": [
    "a=np.median(traces[0]['lambda_0'])\n",
    "b=np.median(traces[0]['lambda_1'])\n",
    "c=np.median(traces[0]['lambda_2'])\n",
    "d=np.median(traces[0]['lambda_3'])\n"
   ]
  },
  {
   "cell_type": "code",
   "execution_count": 10,
   "metadata": {},
   "outputs": [
    {
     "name": "stdout",
     "output_type": "stream",
     "text": [
      "1.5088909413103877 0.42944204559860744 0.4343413152701492 0.6067157650315296\n"
     ]
    }
   ],
   "source": [
    "print(a,b,c,d)"
   ]
  },
  {
   "cell_type": "code",
   "execution_count": 1,
   "metadata": {},
   "outputs": [
    {
     "ename": "NameError",
     "evalue": "name 'traces' is not defined",
     "output_type": "error",
     "traceback": [
      "\u001b[0;31m---------------------------------------------------------------------------\u001b[0m",
      "\u001b[0;31mNameError\u001b[0m                                 Traceback (most recent call last)",
      "\u001b[0;32m<ipython-input-1-5a780da96df3>\u001b[0m in \u001b[0;36m<module>\u001b[0;34m\u001b[0m\n\u001b[0;32m----> 1\u001b[0;31m \u001b[0mtraces\u001b[0m\u001b[0;34m[\u001b[0m\u001b[0;36m0\u001b[0m\u001b[0;34m]\u001b[0m\u001b[0;34m\u001b[0m\u001b[0;34m\u001b[0m\u001b[0m\n\u001b[0m",
      "\u001b[0;31mNameError\u001b[0m: name 'traces' is not defined"
     ]
    }
   ],
   "source": [
    "traces[0]"
   ]
  },
  {
   "cell_type": "code",
   "execution_count": null,
   "metadata": {},
   "outputs": [],
   "source": []
  }
 ],
 "metadata": {
  "kernelspec": {
   "display_name": "Python 3",
   "language": "python",
   "name": "python3"
  },
  "language_info": {
   "codemirror_mode": {
    "name": "ipython",
    "version": 3
   },
   "file_extension": ".py",
   "mimetype": "text/x-python",
   "name": "python",
   "nbconvert_exporter": "python",
   "pygments_lexer": "ipython3",
   "version": "3.7.6"
  }
 },
 "nbformat": 4,
 "nbformat_minor": 4
}
