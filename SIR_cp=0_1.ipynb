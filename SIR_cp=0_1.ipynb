{
 "cells": [
  {
   "cell_type": "code",
   "execution_count": 1,
   "metadata": {},
   "outputs": [
    {
     "name": "stdout",
     "output_type": "stream",
     "text": [
      "Collecting git+https://github.com/Priesemann-Group/covid19_inference_forecast.git\n",
      "  Cloning https://github.com/Priesemann-Group/covid19_inference_forecast.git to /private/var/folders/qr/hdfcfrpx0hj50l5g7lwg7ygc0000gn/T/pip-req-build-xr6i3ejy\n",
      "  Running command git clone -q https://github.com/Priesemann-Group/covid19_inference_forecast.git /private/var/folders/qr/hdfcfrpx0hj50l5g7lwg7ygc0000gn/T/pip-req-build-xr6i3ejy\n",
      "  warning: the following paths have collided (e.g. case-sensitive paths\n",
      "  on a case-insensitive filesystem) and only one from the same\n",
      "  colliding group is in the working tree:\n",
      "\n",
      "    'DISCLAIMER.md'\n",
      "    'disclaimer.md'\n",
      "Requirement already satisfied (use --upgrade to upgrade): covid19-inference==0.0.10 from git+https://github.com/Priesemann-Group/covid19_inference_forecast.git in /Users/jessica/opt/anaconda3/lib/python3.7/site-packages\n",
      "Building wheels for collected packages: covid19-inference\n",
      "  Building wheel for covid19-inference (setup.py) ... \u001b[?25ldone\n",
      "\u001b[?25h  Created wheel for covid19-inference: filename=covid19_inference-0.0.10-py3-none-any.whl size=27625 sha256=c8aa3f0400f19aac1e5b28821b74b25d9a688caa46b4980e4684b19941dda564\n",
      "  Stored in directory: /private/var/folders/qr/hdfcfrpx0hj50l5g7lwg7ygc0000gn/T/pip-ephem-wheel-cache-7lt040l0/wheels/cc/33/51/375e62e25122e2286fa440949767c3f7f3e2e75f7a2cd4ca7e\n",
      "Successfully built covid19-inference\n"
     ]
    }
   ],
   "source": [
    "!pip install git+https://github.com/Priesemann-Group/covid19_inference_forecast.git"
   ]
  },
  {
   "cell_type": "code",
   "execution_count": 2,
   "metadata": {},
   "outputs": [
    {
     "name": "stdout",
     "output_type": "stream",
     "text": [
      "INFO: This code is not longer developed, use our new module instead: github.com/Priesemann-Group/covid19_inference\n"
     ]
    }
   ],
   "source": [
    "import datetime\n",
    "import time as time_module\n",
    "import sys\n",
    "import os \n",
    "\n",
    "import pandas as pd\n",
    "import numpy as np\n",
    "import matplotlib.pyplot as plt\n",
    "import scipy.stats\n",
    "import theano\n",
    "import matplotlib\n",
    "import pymc3 as pm\n",
    "\n",
    "try: \n",
    "    import covid19_inference as cov19\n",
    "except ModuleNotFoundError:\n",
    "    sys.path.append('../..')\n",
    "    import covid19_inference as cov19\n",
    "\n",
    "path_to_save = '../../figures/'"
   ]
  },
  {
   "cell_type": "code",
   "execution_count": null,
   "metadata": {
    "scrolled": true
   },
   "outputs": [
    {
     "name": "stdout",
     "output_type": "stream",
     "text": [
      "Cases yesterday (2020-07-13T00:00:00): 3363056 and day before yesterday: 3304942\n",
      "pr_beta_I_begin was set to default value 100\n",
      "pr_median_lambda_0 was set to default value 0.4\n",
      "pr_sigma_lambda_0 was set to default value 0.5\n",
      "pr_median_mu was set to default value 0.125\n",
      "pr_sigma_mu was set to default value 0.2\n",
      "pr_median_delay was set to default value 8\n",
      "pr_sigma_delay was set to default value 0.2\n",
      "pr_beta_sigma_obs was set to default value 10\n",
      "pr_median_transient_len of change point 0 was set to default value 3\n",
      "pr_sigma_transient_len of change point 0 was set to default value 0.3\n"
     ]
    },
    {
     "name": "stderr",
     "output_type": "stream",
     "text": [
      "Auto-assigning NUTS sampler...\n",
      "Initializing NUTS using advi...\n"
     ]
    },
    {
     "data": {
      "text/html": [
       "\n",
       "    <div>\n",
       "        <style>\n",
       "            /* Turns off some styling */\n",
       "            progress {\n",
       "                /* gets rid of default border in Firefox and Opera. */\n",
       "                border: none;\n",
       "                /* Needs to be in here for Safari polyfill so background images work as expected. */\n",
       "                background-size: auto;\n",
       "            }\n",
       "            .progress-bar-interrupted, .progress-bar-interrupted::-webkit-progress-bar {\n",
       "                background: #F44336;\n",
       "            }\n",
       "        </style>\n",
       "      <progress value='906' class='' max='200000' style='width:300px; height:20px; vertical-align: middle;'></progress>\n",
       "      0.45% [906/200000 00:14<54:50 Average Loss = 3,458.9]\n",
       "    </div>\n",
       "    "
      ],
      "text/plain": [
       "<IPython.core.display.HTML object>"
      ]
     },
     "metadata": {},
     "output_type": "display_data"
    }
   ],
   "source": [
    "\n",
    "confirmed_cases = cov19.get_jhu_confirmed_cases()\n",
    "\n",
    "country = 'US'\n",
    "date_data_begin = datetime.datetime(2020,3,8)\n",
    "date_data_end   = cov19.get_last_date(confirmed_cases)\n",
    "\n",
    "#date_data_end   = datetime.datetime(2020,3,28)\n",
    "num_days_data = (date_data_end-date_data_begin).days\n",
    "diff_data_sim = 16 # should be significantly larger than the expected delay, in \n",
    "                   # order to always fit the same number of data points.\n",
    "num_days_future = 180\n",
    "date_begin_sim = date_data_begin - datetime.timedelta(days = diff_data_sim)\n",
    "date_end_sim   = date_data_end   + datetime.timedelta(days = num_days_future)\n",
    "num_days_sim = (date_end_sim-date_begin_sim).days\n",
    "\n",
    "\n",
    "cases_obs = cov19.filter_one_country(confirmed_cases, country,\n",
    "                                     date_data_begin, date_data_end)\n",
    "\n",
    "print('Cases yesterday ({}): {} and '\n",
    "      'day before yesterday: {}'.format(date_data_end.isoformat(), *cases_obs[:-3:-1]))\n",
    "\n",
    "prior_date_mild_dist_begin =  datetime.datetime(2020,3,20)\n",
    "\n",
    "\n",
    "change_points = [dict(pr_mean_date_begin_transient = prior_date_mild_dist_begin,\n",
    "                      pr_sigma_date_begin_transient = 7,\n",
    "                      pr_median_lambda = 0.2,\n",
    "                      pr_sigma_lambda = 0.5),\n",
    "              ]\n",
    "\n",
    "traces = []\n",
    "models = []\n",
    "\n",
    "for num_change_points in range(2):\n",
    "    model = cov19.SIR_with_change_points(new_cases_obs = np.diff(cases_obs),\n",
    "                                        date_begin_simulation = date_begin_sim,\n",
    "                                        num_days_sim = num_days_sim,\n",
    "                                        diff_data_sim = diff_data_sim,\n",
    "                                        N = 328e6,\n",
    "                                        change_points_list=change_points\n",
    "                                        )\n",
    "    models.append(model)\n",
    "\n",
    "    traces.append(pm.sample(model=model, init='advi', draws=1000))"
   ]
  },
  {
   "cell_type": "code",
   "execution_count": null,
   "metadata": {},
   "outputs": [],
   "source": [
    "print('\\n0 step model\\n')\n",
    "print(pm.loo(traces[0], model))\n",
    "\n",
    "print('\\n1 step model\\n')\n",
    "print(pm.loo(traces[1], model))\n",
    "\n",
    "\n"
   ]
  },
  {
   "cell_type": "code",
   "execution_count": null,
   "metadata": {},
   "outputs": [],
   "source": []
  }
 ],
 "metadata": {
  "kernelspec": {
   "display_name": "Python 3",
   "language": "python",
   "name": "python3"
  },
  "language_info": {
   "codemirror_mode": {
    "name": "ipython",
    "version": 3
   },
   "file_extension": ".py",
   "mimetype": "text/x-python",
   "name": "python",
   "nbconvert_exporter": "python",
   "pygments_lexer": "ipython3",
   "version": "3.7.6"
  }
 },
 "nbformat": 4,
 "nbformat_minor": 4
}
