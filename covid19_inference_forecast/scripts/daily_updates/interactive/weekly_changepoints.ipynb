{
 "cells": [
  {
   "cell_type": "markdown",
   "metadata": {},
   "source": [
    "\n",
    "\n",
    "# Example for weekly changepoints\n",
    "\n",
    "Runtime ~ 1h\n",
    "\n",
    "## Importing modules\n"
   ]
  },
  {
   "cell_type": "code",
   "execution_count": null,
   "metadata": {},
   "outputs": [],
   "source": [
    "import datetime\n",
    "import sys\n",
    "import pandas as pd\n",
    "import numpy as np\n",
    "import matplotlib as mpl\n",
    "import matplotlib.pyplot as plt\n",
    "import scipy.stats\n",
    "import theano\n",
    "import theano.tensor as tt\n",
    "import pymc3 as pm"
   ]
  },
  {
   "cell_type": "code",
   "execution_count": null,
   "metadata": {},
   "outputs": [],
   "source": [
    "try:\n",
    "    import covid19_inference_new as cov19\n",
    "except ModuleNotFoundError:\n",
    "    sys.path.append(\"../..\")\n",
    "    import covid19_inference_new as cov19"
   ]
  },
  {
   "cell_type": "markdown",
   "metadata": {},
   "source": [
    "\n",
    " ## Data retrieval\n"
   ]
  },
  {
   "cell_type": "code",
   "execution_count": null,
   "metadata": {},
   "outputs": [],
   "source": [
    "jhu = cov19.data_retrieval.JHU(True)\n",
    "data_begin = datetime.datetime(2020, 3, 1)\n",
    "data_end = datetime.datetime.now()"
   ]
  },
  {
   "cell_type": "code",
   "execution_count": null,
   "metadata": {},
   "outputs": [],
   "source": [
    "new_cases_obs = jhu.get_new(country=\"Germany\", data_begin=data_begin, data_end=data_end)\n",
    "total_cases_obs = jhu.get_total(\n",
    "    country=\"Germany\", data_begin=data_begin, data_end=data_end\n",
    ")"
   ]
  },
  {
   "cell_type": "markdown",
   "metadata": {},
   "source": [
    "\n",
    " ## Create weekly changepoints\n",
    "\n",
    "TODO:\n",
    "    Get relative_to_previous working\n"
   ]
  },
  {
   "cell_type": "code",
   "execution_count": null,
   "metadata": {},
   "outputs": [],
   "source": [
    "# Change point midpoint dates\n",
    "prior_date_mild_dist_begin = datetime.datetime(2020, 3, 11)\n",
    "prior_date_strong_dist_begin = datetime.datetime(2020, 3, 18)\n",
    "prior_date_contact_ban_begin = datetime.datetime(2020, 3, 25)"
   ]
  },
  {
   "cell_type": "code",
   "execution_count": null,
   "metadata": {},
   "outputs": [],
   "source": [
    "# Structures change points in a dict. Variables not passed will assume default values.\n",
    "change_points = [\n",
    "    dict(\n",
    "        pr_mean_date_transient=prior_date_mild_dist_begin,\n",
    "        pr_sigma_date_transient=1.5,\n",
    "        pr_median_lambda=0.2,\n",
    "        pr_sigma_lambda=0.5,\n",
    "        pr_sigma_transient_len=0.5,\n",
    "    ),\n",
    "    dict(\n",
    "        pr_mean_date_transient=prior_date_strong_dist_begin,\n",
    "        pr_sigma_date_transient=1.5,\n",
    "        pr_median_lambda=1 / 8,\n",
    "        pr_sigma_lambda=0.5,\n",
    "        pr_sigma_transient_len=0.5,\n",
    "        relative_to_previous=False,\n",
    "        pr_factor_to_previous=1,\n",
    "    ),\n",
    "    dict(\n",
    "        pr_mean_date_transient=prior_date_contact_ban_begin,\n",
    "        pr_sigma_date_transient=1.5,\n",
    "        pr_median_lambda=1 / 8 / 2,\n",
    "        pr_sigma_lambda=0.5,\n",
    "        pr_sigma_transient_len=0.5,\n",
    "        relative_to_previous=False,\n",
    "        pr_factor_to_previous=1,\n",
    "    ),\n",
    "]\n",
    "print(f\"Adding possible change points at:\")\n",
    "for i, day in enumerate(\n",
    "    pd.date_range(start=prior_date_contact_ban_begin, end=datetime.datetime.now())\n",
    "):\n",
    "    if day.weekday() == 6:\n",
    "        print(f\"\\t{day}\")\n",
    "\n",
    "        # Prior factor to previous\n",
    "        change_points.append(\n",
    "            dict(  # one possible change point every sunday\n",
    "                pr_mean_date_transient=day,\n",
    "                pr_sigma_date_transient=1,\n",
    "                pr_median_lambda=0.1,  # we dont know, give it wiggley room, but zero\n",
    "                pr_sigma_lambda=0.3,  # gives pymc3 a hard time\n",
    "                relative_to_previous=False,\n",
    "                pr_factor_to_previous=1,\n",
    "            )\n",
    "        )"
   ]
  },
  {
   "cell_type": "markdown",
   "metadata": {},
   "source": [
    "\n",
    " ## Put the model together\n"
   ]
  },
  {
   "cell_type": "code",
   "execution_count": null,
   "metadata": {},
   "outputs": [],
   "source": [
    "# Number of days the simulation starts earlier than the data.\n",
    "# Should be significantly larger than the expected delay in order to always fit the same number of data points.\n",
    "diff_data_sim = 16\n",
    "# Number of days in the future (after date_end_data) to forecast cases\n",
    "num_days_forecast = 10\n",
    "params_model = dict(\n",
    "    new_cases_obs=new_cases_obs[:],\n",
    "    data_begin=data_begin,\n",
    "    fcast_len=num_days_forecast,\n",
    "    diff_data_sim=diff_data_sim,\n",
    "    N_population=83e6,\n",
    ")\n",
    "# Median of the prior for the delay in case reporting, we assume 10 days\n",
    "pr_delay = 10\n",
    "with cov19.model.Cov19Model(**params_model) as this_model:\n",
    "    # Create the an array of the time dependent infection rate lambda\n",
    "    lambda_t_log = cov19.model.lambda_t_with_sigmoids(\n",
    "        pr_median_lambda_0=0.4,\n",
    "        pr_sigma_lambda_0=0.5,\n",
    "        change_points_list=change_points,  # The change point priors we constructed earlier\n",
    "        name_lambda_t=\"lambda_t\",  # Name for the variable in the trace (see later)\n",
    "    )\n",
    "\n",
    "    # set prior distribution for the recovery rate\n",
    "    mu = pm.Lognormal(name=\"mu\", mu=np.log(1 / 8), sigma=0.2)\n",
    "\n",
    "    # This builds a decorrelated prior for I_begin for faster inference.\n",
    "    # It is not necessary to use it, one can simply remove it and use the default argument\n",
    "    # for pr_I_begin in cov19.SIR\n",
    "    prior_I = cov19.model.uncorrelated_prior_I(\n",
    "        lambda_t_log=lambda_t_log,\n",
    "        mu=mu,\n",
    "        pr_median_delay=pr_delay,\n",
    "        name_I_begin=\"I_begin\",\n",
    "        name_I_begin_ratio_log=\"I_begin_ratio_log\",\n",
    "        pr_sigma_I_begin=2,\n",
    "        n_data_points_used=5,\n",
    "    )\n",
    "\n",
    "    # Use lambda_t_log and mu to run the SIR model\n",
    "    new_cases = cov19.model.SIR(\n",
    "        lambda_t_log=lambda_t_log,\n",
    "        mu=mu,\n",
    "        name_new_I_t=\"new_I_t\",\n",
    "        name_I_t=\"I_t\",\n",
    "        name_I_begin=\"I_begin\",\n",
    "        pr_I_begin=prior_I,\n",
    "    )\n",
    "\n",
    "    # Delay the cases by a lognormal reporting delay\n",
    "    new_cases = cov19.model.delay_cases(\n",
    "        cases=new_cases,\n",
    "        name_cases=\"delayed_cases\",\n",
    "        name_delay=\"delay\",\n",
    "        name_width=\"delay-width\",\n",
    "        pr_mean_of_median=pr_delay,\n",
    "        pr_sigma_of_median=0.2,\n",
    "        pr_median_of_width=0.3,\n",
    "    )\n",
    "\n",
    "    # Modulate the inferred cases by a abs(sin(x)) function, to account for weekend effects\n",
    "    # Also adds the \"new_cases\" variable to the trace that has all model features.\n",
    "    new_cases = cov19.model.week_modulation(\n",
    "        cases=new_cases,\n",
    "        name_cases=\"new_cases\",\n",
    "        name_weekend_factor=\"weekend_factor\",\n",
    "        name_offset_modulation=\"offset_modulation\",\n",
    "        week_modulation_type=\"abs_sine\",\n",
    "        pr_mean_weekend_factor=0.3,\n",
    "        pr_sigma_weekend_factor=0.5,\n",
    "        weekend_days=(6, 7),\n",
    "    )\n",
    "\n",
    "    # Define the likelihood, uses the new_cases_obs set as model parameter\n",
    "    cov19.model.student_t_likelihood(new_cases)"
   ]
  },
  {
   "cell_type": "markdown",
   "metadata": {},
   "source": [
    "\n",
    " ## MCMC sampling\n"
   ]
  },
  {
   "cell_type": "code",
   "execution_count": null,
   "metadata": {},
   "outputs": [],
   "source": [
    "trace = pm.sample(model=this_model, init=\"advi\", tune=1000, draws=1000)"
   ]
  },
  {
   "cell_type": "markdown",
   "metadata": {},
   "source": [
    "\n",
    " ## Plotting\n",
    "\n",
    "### Save path\n"
   ]
  },
  {
   "cell_type": "code",
   "execution_count": null,
   "metadata": {},
   "outputs": [],
   "source": [
    "try:\n",
    "    # only works when called from python, not reliable in interactive ipython etc.\n",
    "    os.chdir(os.path.dirname(__file__))\n",
    "    save_to = \"../../figures/weekly_cps_\"\n",
    "except:\n",
    "    # assume base directory\n",
    "    save_to = \"../../figures/weekly_cps_\""
   ]
  },
  {
   "cell_type": "markdown",
   "metadata": {},
   "source": [
    "\n",
    " ### Timeseries\n",
    "Timeseries overview, for now needs an offset variable to get cumulative cases\n"
   ]
  },
  {
   "cell_type": "code",
   "execution_count": null,
   "metadata": {},
   "outputs": [],
   "source": [
    "cov19.plot.rcParams[\"color_model\"] = \"tab:orange\"\n",
    "fig, axes = cov19.plot.timeseries_overview(this_model, trace, offset=total_cases_obs[0])"
   ]
  },
  {
   "cell_type": "code",
   "execution_count": null,
   "metadata": {},
   "outputs": [],
   "source": [
    "# ts for timeseries\n",
    "plt.savefig(\n",
    "    save_to + \"ts.pdf\", dpi=300, bbox_inches=\"tight\", pad_inches=0.05,\n",
    ")\n",
    "plt.savefig(\n",
    "    save_to + \"ts.png\", dpi=300, bbox_inches=\"tight\", pad_inches=0.05,\n",
    ")\n",
    "\"\"\" ### Distributions\n",
    "\"\"\"\n",
    "num_rows = len(change_points) + 1 + 1\n",
    "num_columns = int(np.ceil(14 / 5))\n",
    "fig_width = 4.5 / 3 * num_columns\n",
    "fig_height = num_rows * 1"
   ]
  },
  {
   "cell_type": "code",
   "execution_count": null,
   "metadata": {},
   "outputs": [],
   "source": [
    "fig, axes = plt.subplots(\n",
    "    num_rows, num_columns, figsize=(fig_width, fig_height), constrained_layout=True\n",
    ")\n",
    "# Left row we want mu and all lambda_i!\n",
    "for i in range(num_rows):\n",
    "    if i == 0:\n",
    "        cov19.plot._distribution(this_model, trace, \"mu\", axes[0, 0])\n",
    "    elif i == 1:\n",
    "        # Plot lambda_i and remove the xlable, we add one big label later.\n",
    "        cov19.plot._distribution(this_model, trace, f\"lambda_{i-1}\", axes[i, 0])\n",
    "        axes[i, 0].set_xlabel(\"Inital rate\")\n",
    "    else:\n",
    "        # Plot lambda_i and remove the xlable, we add one big label later.\n",
    "        cov19.plot._distribution(this_model, trace, f\"lambda_{i-1}\", axes[i, 0])\n",
    "        axes[i, 0].set_xlabel(\"\")\n",
    "# middle row\n",
    "for i in range(num_rows):\n",
    "    if i == 0:\n",
    "        cov19.plot._distribution(this_model, trace, \"sigma_obs\", axes[i, 1])\n",
    "    elif i == 1:\n",
    "        cov19.plot._distribution(this_model, trace, \"I_begin\", axes[i, 1])\n",
    "    else:\n",
    "        # Plot transient_day_i and remove the xlable, we add one big label later.\n",
    "        cov19.plot._distribution(this_model, trace, f\"transient_day_{i-1}\", axes[i, 1])\n",
    "        axes[i, 1].set_xlabel(\"\")\n",
    "# right row\n",
    "for i in range(num_rows):\n",
    "    if i == 0:\n",
    "        # Create legend for everything\n",
    "        axes[i, 2].set_axis_off()\n",
    "        axes[i, 2].plot(\n",
    "            [], [], color=cov19.plot.rcParams[\"color_prior\"], linewidth=3, label=\"Prior\"\n",
    "        )\n",
    "        axes[i, 2].hist([], color=cov19.plot.rcParams[\"color_model\"], label=\"Posterior\")\n",
    "        axes[i, 2].legend(loc=\"center left\")\n",
    "        axes[i, 2].get_legend().get_frame().set_linewidth(0.0)\n",
    "        axes[i, 2].get_legend().get_frame().set_facecolor(\"#F0F0F0\")\n",
    "    elif i == 1:\n",
    "        cov19.plot._distribution(this_model, trace, f\"delay\", axes[i, 2])\n",
    "        axes[i, 2].set_xlabel(\"Rep\")\n",
    "    else:\n",
    "        # Plot transient_len_i and remove the xlable, we add one big label later.\n",
    "        cov19.plot._distribution(this_model, trace, f\"transient_len_{i-1}\", axes[i, 2])\n",
    "        axes[i, 2].set_xlabel(\"\")"
   ]
  },
  {
   "cell_type": "code",
   "execution_count": null,
   "metadata": {},
   "outputs": [],
   "source": [
    "# Add ylabel for the first axes\n",
    "axes[0, 0].set_ylabel(\"Density\")\n",
    "# Set bold xlabel for Spreading rates Change times and Change durations\n",
    "axes[2, 0].set_xlabel(\"Spreading rates\", fontweight=\"bold\")\n",
    "axes[2, 1].set_xlabel(\"Change times\", fontweight=\"bold\")\n",
    "axes[2, 2].set_xlabel(\"Change duration\", fontweight=\"bold\")"
   ]
  },
  {
   "cell_type": "code",
   "execution_count": null,
   "metadata": {},
   "outputs": [],
   "source": [
    "# Letters\n",
    "letter_kwargs = dict(x=-0.3, y=1.1, size=\"x-large\")\n",
    "axes[0, 0].text(s=\"D\", transform=axes[0, 0].transAxes, **letter_kwargs)\n",
    "axes[1, 0].text(s=\"E\", transform=axes[1, 0].transAxes, **letter_kwargs)\n",
    "axes[2, 0].text(s=\"F\", transform=axes[2, 0].transAxes, **letter_kwargs)"
   ]
  },
  {
   "cell_type": "code",
   "execution_count": null,
   "metadata": {},
   "outputs": [],
   "source": [
    "# dist for distributions\n",
    "plt.savefig(\n",
    "    save_to + \"dist.pdf\", dpi=300, bbox_inches=\"tight\", pad_inches=0.05,\n",
    ")\n",
    "plt.savefig(\n",
    "    save_to + \"dist.png\", dpi=300, bbox_inches=\"tight\", pad_inches=0.05,\n",
    ")"
   ]
  }
 ],
 "metadata": {
  "kernelspec": {
   "display_name": "Python 3",
   "language": "python",
   "name": "python3"
  },
  "language_info": {
   "codemirror_mode": {
    "name": "ipython",
    "version": 3
   },
   "file_extension": ".py",
   "mimetype": "text/x-python",
   "name": "python",
   "nbconvert_exporter": "python",
   "pygments_lexer": "ipython3",
   "version": "3.7.7"
  }
 },
 "nbformat": 4,
 "nbformat_minor": 2
}
