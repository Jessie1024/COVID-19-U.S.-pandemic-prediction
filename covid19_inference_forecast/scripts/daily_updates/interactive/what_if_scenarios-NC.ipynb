{
 "cells": [
  {
   "cell_type": "markdown",
   "metadata": {},
   "source": [
    "\n",
    " # Example for weekly changepoints\n",
    "\n",
    "Runtime ~ 3-5h\n",
    "\n",
    "## Importing modules\n"
   ]
  },
  {
   "cell_type": "code",
   "execution_count": 1,
   "metadata": {},
   "outputs": [],
   "source": [
    "import datetime\n",
    "import copy\n",
    "import sys"
   ]
  },
  {
   "cell_type": "code",
   "execution_count": 2,
   "metadata": {},
   "outputs": [],
   "source": [
    "import pymc3 as pm\n",
    "import numpy as np\n",
    "import matplotlib as mpl\n",
    "import matplotlib.pyplot as plt"
   ]
  },
  {
   "cell_type": "code",
   "execution_count": 3,
   "metadata": {},
   "outputs": [],
   "source": [
    "import os"
   ]
  },
  {
   "cell_type": "code",
   "execution_count": 4,
   "metadata": {},
   "outputs": [
    {
     "name": "stdout",
     "output_type": "stream",
     "text": [
      "Requirement already satisfied: pymc3 in /Users/jessica/opt/anaconda3/lib/python3.7/site-packages (3.9.2)\n",
      "Requirement already satisfied: arviz>=0.9.0 in /Users/jessica/opt/anaconda3/lib/python3.7/site-packages (from pymc3) (0.9.0)\n",
      "Requirement already satisfied: pandas>=0.18.0 in /Users/jessica/opt/anaconda3/lib/python3.7/site-packages (from pymc3) (1.0.1)\n",
      "Requirement already satisfied: h5py>=2.7.0 in /Users/jessica/opt/anaconda3/lib/python3.7/site-packages (from pymc3) (2.10.0)\n",
      "Requirement already satisfied: scipy>=0.18.1 in /Users/jessica/opt/anaconda3/lib/python3.7/site-packages (from pymc3) (1.4.1)\n",
      "Requirement already satisfied: fastprogress>=0.2.0 in /Users/jessica/opt/anaconda3/lib/python3.7/site-packages (from pymc3) (0.2.3)\n",
      "Requirement already satisfied: theano>=1.0.4 in /Users/jessica/opt/anaconda3/lib/python3.7/site-packages (from pymc3) (1.0.4)\n",
      "Requirement already satisfied: typing-extensions>=3.7.4 in /Users/jessica/opt/anaconda3/lib/python3.7/site-packages (from pymc3) (3.7.4.2)\n",
      "Requirement already satisfied: numpy>=1.13.0 in /Users/jessica/opt/anaconda3/lib/python3.7/site-packages (from pymc3) (1.18.1)\n",
      "Requirement already satisfied: patsy>=0.5.1 in /Users/jessica/opt/anaconda3/lib/python3.7/site-packages (from pymc3) (0.5.1)\n",
      "Requirement already satisfied: matplotlib>=3.0 in /Users/jessica/opt/anaconda3/lib/python3.7/site-packages (from arviz>=0.9.0->pymc3) (3.1.3)\n",
      "Requirement already satisfied: xarray>=0.11 in /Users/jessica/opt/anaconda3/lib/python3.7/site-packages (from arviz>=0.9.0->pymc3) (0.15.1)\n",
      "Requirement already satisfied: netcdf4 in /Users/jessica/opt/anaconda3/lib/python3.7/site-packages (from arviz>=0.9.0->pymc3) (1.5.3)\n",
      "Requirement already satisfied: packaging in /Users/jessica/opt/anaconda3/lib/python3.7/site-packages (from arviz>=0.9.0->pymc3) (20.1)\n",
      "Requirement already satisfied: pytz>=2017.2 in /Users/jessica/opt/anaconda3/lib/python3.7/site-packages (from pandas>=0.18.0->pymc3) (2019.3)\n",
      "Requirement already satisfied: python-dateutil>=2.6.1 in /Users/jessica/opt/anaconda3/lib/python3.7/site-packages (from pandas>=0.18.0->pymc3) (2.8.1)\n",
      "Requirement already satisfied: six in /Users/jessica/opt/anaconda3/lib/python3.7/site-packages (from h5py>=2.7.0->pymc3) (1.14.0)\n",
      "Requirement already satisfied: kiwisolver>=1.0.1 in /Users/jessica/opt/anaconda3/lib/python3.7/site-packages (from matplotlib>=3.0->arviz>=0.9.0->pymc3) (1.1.0)\n",
      "Requirement already satisfied: pyparsing!=2.0.4,!=2.1.2,!=2.1.6,>=2.0.1 in /Users/jessica/opt/anaconda3/lib/python3.7/site-packages (from matplotlib>=3.0->arviz>=0.9.0->pymc3) (2.4.6)\n",
      "Requirement already satisfied: cycler>=0.10 in /Users/jessica/opt/anaconda3/lib/python3.7/site-packages (from matplotlib>=3.0->arviz>=0.9.0->pymc3) (0.10.0)\n",
      "Requirement already satisfied: setuptools>=41.2 in /Users/jessica/opt/anaconda3/lib/python3.7/site-packages (from xarray>=0.11->arviz>=0.9.0->pymc3) (46.0.0.post20200309)\n",
      "Requirement already satisfied: cftime in /Users/jessica/opt/anaconda3/lib/python3.7/site-packages (from netcdf4->arviz>=0.9.0->pymc3) (1.1.3)\n",
      "\u001b[33mWARNING: You are using pip version 20.1.1; however, version 20.3.3 is available.\n",
      "You should consider upgrading via the '/Users/jessica/opt/anaconda3/bin/python -m pip install --upgrade pip' command.\u001b[0m\n",
      "Note: you may need to restart the kernel to use updated packages.\n"
     ]
    }
   ],
   "source": [
    "pip install pymc3"
   ]
  },
  {
   "cell_type": "code",
   "execution_count": 5,
   "metadata": {},
   "outputs": [
    {
     "ename": "SyntaxError",
     "evalue": "invalid syntax (<ipython-input-5-6dce2add0fbc>, line 2)",
     "output_type": "error",
     "traceback": [
      "\u001b[0;36m  File \u001b[0;32m\"<ipython-input-5-6dce2add0fbc>\"\u001b[0;36m, line \u001b[0;32m2\u001b[0m\n\u001b[0;31m    import covid19_inference_new-master as cov19\u001b[0m\n\u001b[0m                                ^\u001b[0m\n\u001b[0;31mSyntaxError\u001b[0m\u001b[0;31m:\u001b[0m invalid syntax\n"
     ]
    }
   ],
   "source": [
    "try:\n",
    "    import covid19_inference_new-master as cov19\n",
    "except ModuleNotFoundError:\n",
    "    sys.path.append(\"../..\")\n",
    "    import covid19_inference_new-master as cov19"
   ]
  },
  {
   "cell_type": "markdown",
   "metadata": {},
   "source": [
    "\n",
    " ## Data retrieval\n"
   ]
  },
  {
   "cell_type": "code",
   "execution_count": null,
   "metadata": {},
   "outputs": [],
   "source": [
    "data_begin = datetime.datetime(2020, 3, 2)\n",
    "jhu = cov19.data_retrieval.JHU()\n",
    "jhu.download_all_available_data(force_download=True)\n",
    "cum_cases = jhu.get_total(country=\"Germany\", data_begin=data_begin)\n",
    "new_cases = jhu.get_new(country=\"Germany\", data_begin=data_begin)"
   ]
  },
  {
   "cell_type": "code",
   "execution_count": null,
   "metadata": {},
   "outputs": [],
   "source": [
    "confirmed_cases_url = 'https://raw.githubusercontent.com/nytimes/covid-19-data/master/us-states.csv'\n",
    "confirmed_cases = pd.read_csv(confirmed_cases_url, sep=',')\n",
    "confirmed_cases.loc[confirmed_cases['state'] == 'North Carolina']\n",
    "confirmed_cases=confirmed_cases[[\"date\",\"state\",\"cases\"]]\n",
    "confirmed_cases_url = 'https://raw.githubusercontent.com/nytimes/covid-19-data/master/us-states.csv'\n",
    "confirmed_cases = pd.read_csv(confirmed_cases_url, sep=',')\n",
    "confirmed_cases.loc[confirmed_cases['state'] == 'North Carolina']\n",
    "confirmed_cases=confirmed_cases[[\"date\",\"state\",\"cases\"]]\n",
    "confirmed_cases=confirmed_cases.loc[confirmed_cases['state'] == 'North Carolina']\n",
    "confirmed_cases=confirmed_cases[[\"date\",\"cases\"]]\n",
    "confirmed_cases['date'] = pd.to_datetime(confirmed_cases['date'])\n",
    "date_data_begin = datetime.datetime(2020,8,3)\n",
    "date_data_end   = datetime.datetime(2020,12,6)\n",
    "mask = (confirmed_cases['date'] > date_data_begin) & (confirmed_cases['date'] <= date_data_end)\n",
    "confirmed_cases=confirmed_cases.loc[mask]\n",
    "cases_obs=confirmed_cases['cases']\n",
    "cases_obs=np.asarray(cases_obs)\n",
    "cases_obs\n"
   ]
  },
  {
   "cell_type": "code",
   "execution_count": null,
   "metadata": {},
   "outputs": [],
   "source": [
    "np.diff(cases_obs)"
   ]
  },
  {
   "cell_type": "markdown",
   "metadata": {},
   "source": [
    "\n",
    " ## Create changepoints\n",
    "\n"
   ]
  },
  {
   "cell_type": "code",
   "execution_count": null,
   "metadata": {},
   "outputs": [],
   "source": [
    "def make_cp_list(factor_dict, date_end):\n",
    "\n",
    "    # change points like in the paper\n",
    "    cp_list = [\n",
    "        # mild distancing\n",
    "        dict(\n",
    "            # account for new implementation where transients_day is centered, not begin\n",
    "            pr_mean_date_transient=datetime.datetime(2020, 3, 10),\n",
    "            pr_median_transient_len=3,\n",
    "            pr_sigma_transient_len=0.3,\n",
    "            pr_sigma_date_transient=3,\n",
    "            pr_median_lambda=0.2,\n",
    "            pr_sigma_lambda=0.5,\n",
    "        ),\n",
    "        # strong distancing\n",
    "        dict(\n",
    "            pr_mean_date_transient=datetime.datetime(2020, 3, 17),\n",
    "            pr_median_transient_len=3,\n",
    "            pr_sigma_transient_len=0.3,\n",
    "            pr_sigma_date_transient=1,\n",
    "            pr_median_lambda=1 / 8,\n",
    "            pr_sigma_lambda=0.5,\n",
    "        ),\n",
    "        # contact ban\n",
    "        dict(\n",
    "            pr_mean_date_transient=datetime.datetime(2020, 3, 24),\n",
    "            pr_median_transient_len=3,\n",
    "            pr_sigma_transient_len=0.3,\n",
    "            pr_sigma_date_transient=1,\n",
    "            pr_median_lambda=1 / 16,\n",
    "            pr_sigma_lambda=0.5,\n",
    "        ),\n",
    "    ]\n",
    "    pr_median_transient_len = 3\n",
    "    pr_sigma_transient_len = 0.3\n",
    "    pr_sigma_date_transient = 1\n",
    "    last_date = datetime.datetime(2020, 3, 24)\n",
    "    while True:\n",
    "        date = last_date + datetime.timedelta(days=7)\n",
    "        if date > date_end: break\n",
    "        if date in factor_dict.keys():\n",
    "            pr_factor_to_previous = factor_dict[date][0]\n",
    "            #print(\"use factor {} on {}\".format(pr_factor_to_previous, date))\n",
    "            pr_sigma_lambda=factor_dict[date][1]\n",
    "        else:\n",
    "            pr_factor_to_previous = 1\n",
    "            pr_sigma_lambda = 0.15\n",
    "        \n",
    "        cp = dict(\n",
    "            pr_mean_date_transient=date,\n",
    "            pr_sigma_lambda = pr_sigma_lambda,\n",
    "            pr_median_transient_len=pr_median_transient_len,\n",
    "            pr_sigma_transient_len=pr_sigma_transient_len,\n",
    "            pr_sigma_date_transient=pr_sigma_date_transient,\n",
    "            relative_to_previous=True,\n",
    "            pr_factor_to_previous = pr_factor_to_previous\n",
    "        )\n",
    "        cp_list.append(cp)\n",
    "        last_date = date\n",
    "    \n",
    "    return cp_list"
   ]
  },
  {
   "cell_type": "code",
   "execution_count": null,
   "metadata": {},
   "outputs": [],
   "source": [
    "cp_a = make_cp_list({datetime.datetime(2020, 5, 12):[2, 0.01],\n",
    "                     datetime.datetime(2020, 5, 5):[1, 0.02]}, datetime.datetime(2020, 5, 12))\n",
    "cp_b = make_cp_list({datetime.datetime(2020, 5, 12):[1.5, 0.01],\n",
    "                     datetime.datetime(2020, 5, 5):[1, 0.02]}, datetime.datetime(2020, 5, 12))\n",
    "cp_c = make_cp_list({datetime.datetime(2020, 5, 12):[1, 0.01],\n",
    "                     datetime.datetime(2020, 5, 5):[1, 0.02]}, datetime.datetime(2020, 5, 12))"
   ]
  },
  {
   "cell_type": "markdown",
   "metadata": {},
   "source": [
    "\n",
    " ## Put the model together\n"
   ]
  },
  {
   "cell_type": "code",
   "execution_count": null,
   "metadata": {},
   "outputs": [],
   "source": [
    "def create_model(change_points, params_model):\n",
    "    with cov19.Cov19Model(**params_model) as model:\n",
    "        lambda_t_log = cov19.model.lambda_t_with_sigmoids(\n",
    "            pr_median_lambda_0=0.4,\n",
    "            pr_sigma_lambda_0=0.5,\n",
    "            change_points_list=change_points,\n",
    "            name_lambda_t=\"lambda_t\"\n",
    "        )\n",
    "        mu = pm.Lognormal(\n",
    "            name=\"mu\",\n",
    "            mu=np.log(1 / 8),\n",
    "            sigma=0.2)\n",
    "        \n",
    "        pr_median_delay = 10\n",
    "        prior_I = cov19.model.uncorrelated_prior_I(\n",
    "            lambda_t_log=lambda_t_log,\n",
    "            mu=mu,\n",
    "            pr_median_delay=pr_median_delay)\n",
    "        new_I_t =  cov19.model.SIR(\n",
    "            lambda_t_log=lambda_t_log,\n",
    "            mu=mu,\n",
    "            pr_I_begin=prior_I)\n",
    "        new_cases = cov19.model.delay_cases(\n",
    "            cases = new_I_t,\n",
    "            pr_mean_of_median=pr_median_delay,\n",
    "            name_cases=\"delayed_cases\",\n",
    "        )\n",
    "        \n",
    "        new_cases= cov19.model.week_modulation(new_cases,name_cases=\"new_cases\")\n",
    "        \n",
    "        cov19.model.student_t_likelihood(new_cases)\n",
    "    return model"
   ]
  },
  {
   "cell_type": "code",
   "execution_count": null,
   "metadata": {},
   "outputs": [],
   "source": [
    "params_model = dict(\n",
    "    new_cases_obs=new_cases,\n",
    "    data_begin=data_begin,\n",
    "    fcast_len=80,\n",
    "    diff_data_sim=16,\n",
    "    N_population=83e6,\n",
    ")"
   ]
  },
  {
   "cell_type": "code",
   "execution_count": null,
   "metadata": {},
   "outputs": [],
   "source": [
    "mod_a = create_model(cp_a, params_model)\n",
    "mod_b = create_model(cp_b, params_model)\n",
    "mod_c = create_model(cp_c, params_model)"
   ]
  },
  {
   "cell_type": "markdown",
   "metadata": {},
   "source": [
    "\n",
    " ## MCMC sampling\n"
   ]
  },
  {
   "cell_type": "code",
   "execution_count": null,
   "metadata": {},
   "outputs": [],
   "source": [
    "import pickle\n",
    "tr_a = pm.sample(model=mod_a, tune=1000, draws=1000, init=\"advi+adapt_diag\")\n",
    "tr_b = pm.sample(model=mod_b, tune=1000, draws=1000, init=\"advi+adapt_diag\")\n",
    "tr_c = pm.sample(model=mod_c, tune=1000, draws=1000, init=\"advi+adapt_diag\")\n",
    "pickle.dump([(mod_a, mod_b, mod_c), (tr_a, tr_b, tr_c)], open('../../data/what_if.pickled', 'wb'))"
   ]
  },
  {
   "cell_type": "markdown",
   "metadata": {},
   "source": [
    "\n",
    " ## Plotting\n",
    "\n",
    "### Save path\n"
   ]
  },
  {
   "cell_type": "code",
   "execution_count": null,
   "metadata": {},
   "outputs": [],
   "source": [
    "try:\n",
    "    # only works when called from python, not reliable in interactive ipython etc.\n",
    "    os.chdir(os.path.dirname(__file__))\n",
    "    save_path = \"../../figures/what_if_\"\n",
    "except:\n",
    "    # assume base directory\n",
    "    save_path = \"../../figures/what_if_\""
   ]
  },
  {
   "cell_type": "markdown",
   "metadata": {},
   "source": [
    "\n",
    " ### Timeseries\n",
    "Timeseries overview, for now needs an offset variable to get cumulative cases\n",
    "\n",
    "#### English\n"
   ]
  },
  {
   "cell_type": "code",
   "execution_count": null,
   "metadata": {},
   "outputs": [],
   "source": [
    "cov19.plot.set_rcparams(cov19.plot.get_rcparams_default())\n",
    "cov19.plot.rcParams.draw_ci_50 = True\n",
    "end = datetime.datetime(2020,6,14)\n",
    "fig, axes = cov19.plot.timeseries_overview(\n",
    "    mod_a,\n",
    "    tr_a,\n",
    "    offset=cum_cases[0],\n",
    "    forecast_label=\"Pessimistic\",\n",
    "    forecast_heading=r\"$\\bf Scenarios\\!:$\",\n",
    "    add_more_later=True,\n",
    "    color=\"tab:red\","
   ]
  },
  {
   "cell_type": "code",
   "execution_count": null,
   "metadata": {},
   "outputs": [],
   "source": [
    ")\n",
    "fig, axes = cov19.plot.timeseries_overview(\n",
    "    mod_b,\n",
    "    tr_b,\n",
    "    axes=axes,\n",
    "    offset=cum_cases[0],\n",
    "    forecast_label=\"Neutral\",\n",
    "    color=\"tab:orange\",\n",
    ")\n",
    "fig, axes = cov19.plot.timeseries_overview(\n",
    "    mod_c,\n",
    "    tr_c,\n",
    "    axes=axes,\n",
    "    offset=cum_cases[0],\n",
    "    forecast_label=\"Optimistic\",\n",
    "    color=\"tab:green\",\n",
    "    end=end,\n",
    ")\n",
    "axes[0].set_ylim(-0.07,0.3)\n",
    "axes[1].set_ylim(0,7500)\n",
    "axes[2].set_ylim(0,220_000)"
   ]
  }
 ],
 "metadata": {
  "kernelspec": {
   "display_name": "Python 3",
   "language": "python",
   "name": "python3"
  },
  "language_info": {
   "codemirror_mode": {
    "name": "ipython",
    "version": 3
   },
   "file_extension": ".py",
   "mimetype": "text/x-python",
   "name": "python",
   "nbconvert_exporter": "python",
   "pygments_lexer": "ipython3",
   "version": "3.7.6"
  }
 },
 "nbformat": 4,
 "nbformat_minor": 2
}
