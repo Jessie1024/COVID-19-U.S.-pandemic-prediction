{
 "cells": [
  {
   "cell_type": "markdown",
   "metadata": {},
   "source": [
    "\n",
    " # Example for weekly changepoints\n",
    "\n",
    "Runtime ~ 3-5h\n",
    "\n",
    "## Importing modules\n"
   ]
  },
  {
   "cell_type": "code",
   "execution_count": null,
   "metadata": {},
   "outputs": [],
   "source": [
    "import datetime\n",
    "import copy\n",
    "import sys"
   ]
  },
  {
   "cell_type": "code",
   "execution_count": null,
   "metadata": {},
   "outputs": [],
   "source": [
    "import pymc3 as pm\n",
    "import numpy as np\n",
    "import matplotlib as mpl\n",
    "import matplotlib.pyplot as plt"
   ]
  },
  {
   "cell_type": "code",
   "execution_count": null,
   "metadata": {},
   "outputs": [],
   "source": [
    "try:\n",
    "    import covid19_inference_new as cov19\n",
    "except ModuleNotFoundError:\n",
    "    sys.path.append(\"../..\")\n",
    "    import covid19_inference_new as cov19"
   ]
  },
  {
   "cell_type": "markdown",
   "metadata": {},
   "source": [
    "\n",
    " ## Data retrieval\n"
   ]
  },
  {
   "cell_type": "code",
   "execution_count": null,
   "metadata": {},
   "outputs": [],
   "source": [
    "data_begin = datetime.datetime(2020, 3, 2)\n",
    "jhu = cov19.data_retrieval.JHU()\n",
    "jhu.download_all_available_data(force_download=True)\n",
    "cum_cases = jhu.get_total(country=\"Germany\", data_begin=data_begin)\n",
    "new_cases = jhu.get_new(country=\"Germany\", data_begin=data_begin)"
   ]
  },
  {
   "cell_type": "markdown",
   "metadata": {},
   "source": [
    "\n",
    " ## Create changepoints\n",
    "\n"
   ]
  },
  {
   "cell_type": "code",
   "execution_count": null,
   "metadata": {},
   "outputs": [],
   "source": [
    "def make_cp_list(factor_dict, date_end):\n",
    "\n",
    "    # change points like in the paper\n",
    "    cp_list = [\n",
    "        # mild distancing\n",
    "        dict(\n",
    "            # account for new implementation where transients_day is centered, not begin\n",
    "            pr_mean_date_transient=datetime.datetime(2020, 3, 10),\n",
    "            pr_median_transient_len=3,\n",
    "            pr_sigma_transient_len=0.3,\n",
    "            pr_sigma_date_transient=3,\n",
    "            pr_median_lambda=0.2,\n",
    "            pr_sigma_lambda=0.5,\n",
    "        ),\n",
    "        # strong distancing\n",
    "        dict(\n",
    "            pr_mean_date_transient=datetime.datetime(2020, 3, 17),\n",
    "            pr_median_transient_len=3,\n",
    "            pr_sigma_transient_len=0.3,\n",
    "            pr_sigma_date_transient=1,\n",
    "            pr_median_lambda=1 / 8,\n",
    "            pr_sigma_lambda=0.5,\n",
    "        ),\n",
    "        # contact ban\n",
    "        dict(\n",
    "            pr_mean_date_transient=datetime.datetime(2020, 3, 24),\n",
    "            pr_median_transient_len=3,\n",
    "            pr_sigma_transient_len=0.3,\n",
    "            pr_sigma_date_transient=1,\n",
    "            pr_median_lambda=1 / 16,\n",
    "            pr_sigma_lambda=0.5,\n",
    "        ),\n",
    "    ]\n",
    "    pr_median_transient_len = 3\n",
    "    pr_sigma_transient_len = 0.3\n",
    "    pr_sigma_date_transient = 1\n",
    "    last_date = datetime.datetime(2020, 3, 24)\n",
    "    while True:\n",
    "        date = last_date + datetime.timedelta(days=7)\n",
    "        if date > date_end: break\n",
    "        if date in factor_dict.keys():\n",
    "            pr_factor_to_previous = factor_dict[date][0]\n",
    "            #print(\"use factor {} on {}\".format(pr_factor_to_previous, date))\n",
    "            pr_sigma_lambda=factor_dict[date][1]\n",
    "        else:\n",
    "            pr_factor_to_previous = 1\n",
    "            pr_sigma_lambda = 0.15\n",
    "        \n",
    "        cp = dict(\n",
    "            pr_mean_date_transient=date,\n",
    "            pr_sigma_lambda = pr_sigma_lambda,\n",
    "            pr_median_transient_len=pr_median_transient_len,\n",
    "            pr_sigma_transient_len=pr_sigma_transient_len,\n",
    "            pr_sigma_date_transient=pr_sigma_date_transient,\n",
    "            relative_to_previous=True,\n",
    "            pr_factor_to_previous = pr_factor_to_previous\n",
    "        )\n",
    "        cp_list.append(cp)\n",
    "        last_date = date\n",
    "    \n",
    "    return cp_list"
   ]
  },
  {
   "cell_type": "code",
   "execution_count": null,
   "metadata": {},
   "outputs": [],
   "source": [
    "cp_a = make_cp_list({datetime.datetime(2020, 5, 12):[2, 0.01],\n",
    "                     datetime.datetime(2020, 5, 5):[1, 0.02]}, datetime.datetime(2020, 5, 12))\n",
    "cp_b = make_cp_list({datetime.datetime(2020, 5, 12):[1.5, 0.01],\n",
    "                     datetime.datetime(2020, 5, 5):[1, 0.02]}, datetime.datetime(2020, 5, 12))\n",
    "cp_c = make_cp_list({datetime.datetime(2020, 5, 12):[1, 0.01],\n",
    "                     datetime.datetime(2020, 5, 5):[1, 0.02]}, datetime.datetime(2020, 5, 12))"
   ]
  },
  {
   "cell_type": "markdown",
   "metadata": {},
   "source": [
    "\n",
    " ## Put the model together\n"
   ]
  },
  {
   "cell_type": "code",
   "execution_count": null,
   "metadata": {},
   "outputs": [],
   "source": [
    "def create_model(change_points, params_model):\n",
    "    with cov19.Cov19Model(**params_model) as model:\n",
    "        lambda_t_log = cov19.model.lambda_t_with_sigmoids(\n",
    "            pr_median_lambda_0=0.4,\n",
    "            pr_sigma_lambda_0=0.5,\n",
    "            change_points_list=change_points,\n",
    "            name_lambda_t=\"lambda_t\"\n",
    "        )\n",
    "        mu = pm.Lognormal(\n",
    "            name=\"mu\",\n",
    "            mu=np.log(1 / 8),\n",
    "            sigma=0.2)\n",
    "        \n",
    "        pr_median_delay = 10\n",
    "        prior_I = cov19.model.uncorrelated_prior_I(\n",
    "            lambda_t_log=lambda_t_log,\n",
    "            mu=mu,\n",
    "            pr_median_delay=pr_median_delay)\n",
    "        new_I_t =  cov19.model.SIR(\n",
    "            lambda_t_log=lambda_t_log,\n",
    "            mu=mu,\n",
    "            pr_I_begin=prior_I)\n",
    "        new_cases = cov19.model.delay_cases(\n",
    "            cases = new_I_t,\n",
    "            pr_mean_of_median=pr_median_delay,\n",
    "            name_cases=\"delayed_cases\",\n",
    "        )\n",
    "        \n",
    "        new_cases= cov19.model.week_modulation(new_cases,name_cases=\"new_cases\")\n",
    "        \n",
    "        cov19.model.student_t_likelihood(new_cases)\n",
    "    return model"
   ]
  },
  {
   "cell_type": "code",
   "execution_count": null,
   "metadata": {},
   "outputs": [],
   "source": [
    "params_model = dict(\n",
    "    new_cases_obs=new_cases,\n",
    "    data_begin=data_begin,\n",
    "    fcast_len=80,\n",
    "    diff_data_sim=16,\n",
    "    N_population=83e6,\n",
    ")"
   ]
  },
  {
   "cell_type": "code",
   "execution_count": null,
   "metadata": {},
   "outputs": [],
   "source": [
    "mod_a = create_model(cp_a, params_model)\n",
    "mod_b = create_model(cp_b, params_model)\n",
    "mod_c = create_model(cp_c, params_model)"
   ]
  },
  {
   "cell_type": "markdown",
   "metadata": {},
   "source": [
    "\n",
    " ## MCMC sampling\n"
   ]
  },
  {
   "cell_type": "code",
   "execution_count": null,
   "metadata": {},
   "outputs": [],
   "source": [
    "import pickle\n",
    "tr_a = pm.sample(model=mod_a, tune=1000, draws=1000, init=\"advi+adapt_diag\")\n",
    "tr_b = pm.sample(model=mod_b, tune=1000, draws=1000, init=\"advi+adapt_diag\")\n",
    "tr_c = pm.sample(model=mod_c, tune=1000, draws=1000, init=\"advi+adapt_diag\")\n",
    "pickle.dump([(mod_a, mod_b, mod_c), (tr_a, tr_b, tr_c)], open('../../data/what_if.pickled', 'wb'))"
   ]
  },
  {
   "cell_type": "markdown",
   "metadata": {},
   "source": [
    "\n",
    " ## Plotting\n",
    "\n",
    "### Save path\n"
   ]
  },
  {
   "cell_type": "code",
   "execution_count": null,
   "metadata": {},
   "outputs": [],
   "source": [
    "try:\n",
    "    # only works when called from python, not reliable in interactive ipython etc.\n",
    "    os.chdir(os.path.dirname(__file__))\n",
    "    save_path = \"../../figures/what_if_\"\n",
    "except:\n",
    "    # assume base directory\n",
    "    save_path = \"../../figures/what_if_\""
   ]
  },
  {
   "cell_type": "markdown",
   "metadata": {},
   "source": [
    "\n",
    " ### Timeseries\n",
    "Timeseries overview, for now needs an offset variable to get cumulative cases\n",
    "\n",
    "#### English\n"
   ]
  },
  {
   "cell_type": "code",
   "execution_count": null,
   "metadata": {},
   "outputs": [],
   "source": [
    "cov19.plot.set_rcparams(cov19.plot.get_rcparams_default())\n",
    "cov19.plot.rcParams.draw_ci_50 = True\n",
    "end = datetime.datetime(2020,6,14)\n",
    "fig, axes = cov19.plot.timeseries_overview(\n",
    "    mod_a,\n",
    "    tr_a,\n",
    "    offset=cum_cases[0],\n",
    "    forecast_label=\"Pessimistic\",\n",
    "    forecast_heading=r\"$\\bf Scenarios\\!:$\",\n",
    "    add_more_later=True,\n",
    "    color=\"tab:red\","
   ]
  },
  {
   "cell_type": "code",
   "execution_count": null,
   "metadata": {},
   "outputs": [],
   "source": [
    ")\n",
    "fig, axes = cov19.plot.timeseries_overview(\n",
    "    mod_b,\n",
    "    tr_b,\n",
    "    axes=axes,\n",
    "    offset=cum_cases[0],\n",
    "    forecast_label=\"Neutral\",\n",
    "    color=\"tab:orange\",\n",
    ")\n",
    "fig, axes = cov19.plot.timeseries_overview(\n",
    "    mod_c,\n",
    "    tr_c,\n",
    "    axes=axes,\n",
    "    offset=cum_cases[0],\n",
    "    forecast_label=\"Optimistic\",\n",
    "    color=\"tab:green\",\n",
    "    end=end,\n",
    ")\n",
    "axes[0].set_ylim(-0.07,0.3)\n",
    "axes[1].set_ylim(0,7500)\n",
    "axes[2].set_ylim(0,220_000)"
   ]
  },
  {
   "cell_type": "code",
   "execution_count": null,
   "metadata": {},
   "outputs": [],
   "source": [
    "fig.savefig(save_path+'english_ts.pdf', dpi=300, bbox_inches=\"tight\", pad_inches=0.05)\n",
    "fig.savefig(save_path+'english_ts.png', dpi=300, bbox_inches=\"tight\", pad_inches=0.05)"
   ]
  },
  {
   "cell_type": "markdown",
   "metadata": {},
   "source": [
    "\n",
    " #### German\n"
   ]
  },
  {
   "cell_type": "code",
   "execution_count": null,
   "metadata": {},
   "outputs": [],
   "source": [
    "cov19.plot.set_rcparams(cov19.plot.get_rcparams_default())\n",
    "cov19.plot.rcParams.draw_ci_50 = True\n",
    "cov19.plot.rcParams.locale = \"de_DE\"\n",
    "cov19.plot.rcParams.date_format = \"%-d. %b\""
   ]
  },
  {
   "cell_type": "code",
   "execution_count": null,
   "metadata": {},
   "outputs": [],
   "source": [
    "fig, axes = cov19.plot.timeseries_overview(\n",
    "    mod_a,\n",
    "    tr_a,\n",
    "    offset=cum_cases[0],\n",
    "    forecast_label=\"pessimistisch\",\n",
    "    forecast_heading=r\"$\\bf Szenarien\\!:$\",\n",
    "    add_more_later=True,\n",
    "    color=\"tab:red\",\n",
    ")"
   ]
  },
  {
   "cell_type": "code",
   "execution_count": null,
   "metadata": {},
   "outputs": [],
   "source": [
    "fig, axes = cov19.plot.timeseries_overview(\n",
    "    mod_b,\n",
    "    tr_b,\n",
    "    axes=axes,\n",
    "    offset=cum_cases[0],\n",
    "    forecast_label=\"neutral\",\n",
    "    color=\"tab:orange\",\n",
    ")"
   ]
  },
  {
   "cell_type": "code",
   "execution_count": null,
   "metadata": {},
   "outputs": [],
   "source": [
    "fig, axes = cov19.plot.timeseries_overview(\n",
    "    mod_c,\n",
    "    tr_c,\n",
    "    axes=axes,\n",
    "    offset=cum_cases[0],\n",
    "    forecast_label=\"optimistisch\",\n",
    "    color=\"tab:green\",\n",
    "    end=end\n",
    ")"
   ]
  },
  {
   "cell_type": "code",
   "execution_count": null,
   "metadata": {},
   "outputs": [],
   "source": [
    "axes[0].set_ylim(-0.07,0.3)\n",
    "axes[1].set_ylim(0,7500)\n",
    "axes[2].set_ylim(0,220_000)"
   ]
  },
  {
   "cell_type": "code",
   "execution_count": null,
   "metadata": {},
   "outputs": [],
   "source": [
    "fig.savefig(save_path+'german_ts.pdf', dpi=300, bbox_inches=\"tight\", pad_inches=0.05)\n",
    "fig.savefig(save_path+'german_ts.png', dpi=300, bbox_inches=\"tight\", pad_inches=0.05)"
   ]
  },
  {
   "cell_type": "markdown",
   "metadata": {},
   "source": [
    "\n",
    " ### Distributions\n",
    "\n",
    "\tTODO\n"
   ]
  }
 ],
 "metadata": {
  "kernelspec": {
   "display_name": "Python 3",
   "language": "python",
   "name": "python3"
  },
  "language_info": {
   "codemirror_mode": {
    "name": "ipython",
    "version": 3
   },
   "file_extension": ".py",
   "mimetype": "text/x-python",
   "name": "python",
   "nbconvert_exporter": "python",
   "pygments_lexer": "ipython3",
   "version": "3.7.6"
  }
 },
 "nbformat": 4,
 "nbformat_minor": 2
}
