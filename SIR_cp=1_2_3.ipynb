{
 "cells": [
  {
   "cell_type": "code",
   "execution_count": 1,
   "metadata": {},
   "outputs": [
    {
     "name": "stdout",
     "output_type": "stream",
     "text": [
      "Collecting git+https://github.com/Priesemann-Group/covid19_inference_forecast.git\n",
      "  Cloning https://github.com/Priesemann-Group/covid19_inference_forecast.git to /private/var/folders/qr/hdfcfrpx0hj50l5g7lwg7ygc0000gn/T/pip-req-build-xl2zbucw\n",
      "  Running command git clone -q https://github.com/Priesemann-Group/covid19_inference_forecast.git /private/var/folders/qr/hdfcfrpx0hj50l5g7lwg7ygc0000gn/T/pip-req-build-xl2zbucw\n",
      "  warning: the following paths have collided (e.g. case-sensitive paths\n",
      "  on a case-insensitive filesystem) and only one from the same\n",
      "  colliding group is in the working tree:\n",
      "\n",
      "    'DISCLAIMER.md'\n",
      "    'disclaimer.md'\n",
      "Requirement already satisfied (use --upgrade to upgrade): covid19-inference==0.0.10 from git+https://github.com/Priesemann-Group/covid19_inference_forecast.git in /Users/jessica/opt/anaconda3/lib/python3.7/site-packages\n",
      "Building wheels for collected packages: covid19-inference\n",
      "  Building wheel for covid19-inference (setup.py) ... \u001b[?25ldone\n",
      "\u001b[?25h  Created wheel for covid19-inference: filename=covid19_inference-0.0.10-py3-none-any.whl size=27625 sha256=2e35a30f18a267169e39856f2e60e9b38ca0719646457d7fc0c60025bb90fe06\n",
      "  Stored in directory: /private/var/folders/qr/hdfcfrpx0hj50l5g7lwg7ygc0000gn/T/pip-ephem-wheel-cache-uvx10bdy/wheels/cc/33/51/375e62e25122e2286fa440949767c3f7f3e2e75f7a2cd4ca7e\n",
      "Successfully built covid19-inference\n"
     ]
    }
   ],
   "source": [
    "!pip install git+https://github.com/Priesemann-Group/covid19_inference_forecast.git\n",
    "    '''\n",
    "    this takes about three days of running, so i deside to split the model into three program'''"
   ]
  },
  {
   "cell_type": "code",
   "execution_count": 2,
   "metadata": {},
   "outputs": [
    {
     "name": "stdout",
     "output_type": "stream",
     "text": [
      "INFO: This code is not longer developed, use our new module instead: github.com/Priesemann-Group/covid19_inference\n"
     ]
    }
   ],
   "source": [
    "import datetime\n",
    "import time as time_module\n",
    "import sys\n",
    "import os \n",
    "\n",
    "import pandas as pd\n",
    "import numpy as np\n",
    "import matplotlib.pyplot as plt\n",
    "import scipy.stats\n",
    "import theano\n",
    "import matplotlib\n",
    "import pymc3 as pm\n",
    "\n",
    "try: \n",
    "    import covid19_inference as cov19\n",
    "except ModuleNotFoundError:\n",
    "    sys.path.append('../..')\n",
    "    import covid19_inference as cov19\n",
    "\n",
    "path_to_save = '../../figures/'\n"
   ]
  },
  {
   "cell_type": "code",
   "execution_count": 3,
   "metadata": {
    "scrolled": true
   },
   "outputs": [
    {
     "name": "stdout",
     "output_type": "stream",
     "text": [
      "Cases yesterday (2020-06-28T00:00:00): 2548996 and day before yesterday: 2510151\n",
      "pr_beta_I_begin was set to default value 100\n",
      "pr_median_lambda_0 was set to default value 0.4\n",
      "pr_sigma_lambda_0 was set to default value 0.5\n",
      "pr_median_mu was set to default value 0.125\n",
      "pr_sigma_mu was set to default value 0.2\n",
      "pr_median_delay was set to default value 8\n",
      "pr_sigma_delay was set to default value 0.2\n",
      "pr_beta_sigma_obs was set to default value 10\n"
     ]
    },
    {
     "name": "stderr",
     "output_type": "stream",
     "text": [
      "Auto-assigning NUTS sampler...\n",
      "Initializing NUTS using advi...\n"
     ]
    },
    {
     "data": {
      "text/html": [
       "\n",
       "    <div>\n",
       "        <style>\n",
       "            /* Turns off some styling */\n",
       "            progress {\n",
       "                /* gets rid of default border in Firefox and Opera. */\n",
       "                border: none;\n",
       "                /* Needs to be in here for Safari polyfill so background images work as expected. */\n",
       "                background-size: auto;\n",
       "            }\n",
       "            .progress-bar-interrupted, .progress-bar-interrupted::-webkit-progress-bar {\n",
       "                background: #F44336;\n",
       "            }\n",
       "        </style>\n",
       "      <progress value='10388' class='' max='200000' style='width:300px; height:20px; vertical-align: middle;'></progress>\n",
       "      5.19% [10388/200000 02:22<43:28 Average Loss = 1,891.2]\n",
       "    </div>\n",
       "    "
      ],
      "text/plain": [
       "<IPython.core.display.HTML object>"
      ]
     },
     "metadata": {},
     "output_type": "display_data"
    },
    {
     "name": "stderr",
     "output_type": "stream",
     "text": [
      "Convergence achieved at 10400\n",
      "Interrupted at 10,399 [5%]: Average Loss = 2,427.8\n",
      "Multiprocess sampling (2 chains in 2 jobs)\n",
      "NUTS: [sigma_obs, delay, mu, lambda_0, I_begin]\n"
     ]
    },
    {
     "data": {
      "text/html": [
       "\n",
       "    <div>\n",
       "        <style>\n",
       "            /* Turns off some styling */\n",
       "            progress {\n",
       "                /* gets rid of default border in Firefox and Opera. */\n",
       "                border: none;\n",
       "                /* Needs to be in here for Safari polyfill so background images work as expected. */\n",
       "                background-size: auto;\n",
       "            }\n",
       "            .progress-bar-interrupted, .progress-bar-interrupted::-webkit-progress-bar {\n",
       "                background: #F44336;\n",
       "            }\n",
       "        </style>\n",
       "      <progress value='10000' class='' max='10000' style='width:300px; height:20px; vertical-align: middle;'></progress>\n",
       "      100.00% [10000/10000 58:48<00:00 Sampling 2 chains, 0 divergences]\n",
       "    </div>\n",
       "    "
      ],
      "text/plain": [
       "<IPython.core.display.HTML object>"
      ]
     },
     "metadata": {},
     "output_type": "display_data"
    },
    {
     "name": "stderr",
     "output_type": "stream",
     "text": [
      "Sampling 2 chains for 1_000 tune and 4_000 draw iterations (2_000 + 8_000 draws total) took 3530 seconds.\n",
      "The number of effective samples is smaller than 10% for some parameters.\n"
     ]
    },
    {
     "name": "stdout",
     "output_type": "stream",
     "text": [
      "pr_beta_I_begin was set to default value 100\n",
      "pr_median_lambda_0 was set to default value 0.4\n",
      "pr_sigma_lambda_0 was set to default value 0.5\n",
      "pr_median_mu was set to default value 0.125\n",
      "pr_sigma_mu was set to default value 0.2\n",
      "pr_median_delay was set to default value 8\n",
      "pr_sigma_delay was set to default value 0.2\n",
      "pr_beta_sigma_obs was set to default value 10\n",
      "pr_median_transient_len of change point 0 was set to default value 3\n",
      "pr_sigma_transient_len of change point 0 was set to default value 0.3\n"
     ]
    },
    {
     "name": "stderr",
     "output_type": "stream",
     "text": [
      "Auto-assigning NUTS sampler...\n",
      "Initializing NUTS using advi...\n"
     ]
    },
    {
     "data": {
      "text/html": [
       "\n",
       "    <div>\n",
       "        <style>\n",
       "            /* Turns off some styling */\n",
       "            progress {\n",
       "                /* gets rid of default border in Firefox and Opera. */\n",
       "                border: none;\n",
       "                /* Needs to be in here for Safari polyfill so background images work as expected. */\n",
       "                background-size: auto;\n",
       "            }\n",
       "            .progress-bar-interrupted, .progress-bar-interrupted::-webkit-progress-bar {\n",
       "                background: #F44336;\n",
       "            }\n",
       "        </style>\n",
       "      <progress value='20399' class='' max='200000' style='width:300px; height:20px; vertical-align: middle;'></progress>\n",
       "      10.20% [20399/200000 38:15<5:36:53 Average Loss = 1,425.1]\n",
       "    </div>\n",
       "    "
      ],
      "text/plain": [
       "<IPython.core.display.HTML object>"
      ]
     },
     "metadata": {},
     "output_type": "display_data"
    },
    {
     "name": "stderr",
     "output_type": "stream",
     "text": [
      "Convergence achieved at 20400\n",
      "Interrupted at 20,399 [10%]: Average Loss = 1,979.4\n",
      "Multiprocess sampling (2 chains in 2 jobs)\n",
      "NUTS: [sigma_obs, delay, mu, transient_len_0, transient_begin_0, lambda_1, lambda_0, I_begin]\n"
     ]
    },
    {
     "data": {
      "text/html": [
       "\n",
       "    <div>\n",
       "        <style>\n",
       "            /* Turns off some styling */\n",
       "            progress {\n",
       "                /* gets rid of default border in Firefox and Opera. */\n",
       "                border: none;\n",
       "                /* Needs to be in here for Safari polyfill so background images work as expected. */\n",
       "                background-size: auto;\n",
       "            }\n",
       "            .progress-bar-interrupted, .progress-bar-interrupted::-webkit-progress-bar {\n",
       "                background: #F44336;\n",
       "            }\n",
       "        </style>\n",
       "      <progress value='10000' class='' max='10000' style='width:300px; height:20px; vertical-align: middle;'></progress>\n",
       "      100.00% [10000/10000 18:11:56<00:00 Sampling 2 chains, 0 divergences]\n",
       "    </div>\n",
       "    "
      ],
      "text/plain": [
       "<IPython.core.display.HTML object>"
      ]
     },
     "metadata": {},
     "output_type": "display_data"
    },
    {
     "name": "stderr",
     "output_type": "stream",
     "text": [
      "Sampling 2 chains for 1_000 tune and 4_000 draw iterations (2_000 + 8_000 draws total) took 65517 seconds.\n",
      "The number of effective samples is smaller than 10% for some parameters.\n"
     ]
    },
    {
     "name": "stdout",
     "output_type": "stream",
     "text": [
      "pr_beta_I_begin was set to default value 100\n",
      "pr_median_lambda_0 was set to default value 0.4\n",
      "pr_sigma_lambda_0 was set to default value 0.5\n",
      "pr_median_mu was set to default value 0.125\n",
      "pr_sigma_mu was set to default value 0.2\n",
      "pr_median_delay was set to default value 8\n",
      "pr_sigma_delay was set to default value 0.2\n",
      "pr_beta_sigma_obs was set to default value 10\n",
      "pr_median_transient_len of change point 1 was set to default value 3\n",
      "pr_sigma_transient_len of change point 1 was set to default value 0.3\n"
     ]
    },
    {
     "name": "stderr",
     "output_type": "stream",
     "text": [
      "Auto-assigning NUTS sampler...\n",
      "Initializing NUTS using advi...\n"
     ]
    },
    {
     "data": {
      "text/html": [
       "\n",
       "    <div>\n",
       "        <style>\n",
       "            /* Turns off some styling */\n",
       "            progress {\n",
       "                /* gets rid of default border in Firefox and Opera. */\n",
       "                border: none;\n",
       "                /* Needs to be in here for Safari polyfill so background images work as expected. */\n",
       "                background-size: auto;\n",
       "            }\n",
       "            .progress-bar-interrupted, .progress-bar-interrupted::-webkit-progress-bar {\n",
       "                background: #F44336;\n",
       "            }\n",
       "        </style>\n",
       "      <progress value='18487' class='' max='200000' style='width:300px; height:20px; vertical-align: middle;'></progress>\n",
       "      9.24% [18487/200000 03:33<34:59 Average Loss = 1,416.3]\n",
       "    </div>\n",
       "    "
      ],
      "text/plain": [
       "<IPython.core.display.HTML object>"
      ]
     },
     "metadata": {},
     "output_type": "display_data"
    },
    {
     "name": "stderr",
     "output_type": "stream",
     "text": [
      "Convergence achieved at 18500\n",
      "Interrupted at 18,499 [9%]: Average Loss = 1,977.9\n",
      "Multiprocess sampling (2 chains in 2 jobs)\n",
      "NUTS: [sigma_obs, delay, mu, transient_len_1, transient_len_0, transient_begin_1, transient_begin_0, lambda_2, lambda_1, lambda_0, I_begin]\n"
     ]
    },
    {
     "data": {
      "text/html": [
       "\n",
       "    <div>\n",
       "        <style>\n",
       "            /* Turns off some styling */\n",
       "            progress {\n",
       "                /* gets rid of default border in Firefox and Opera. */\n",
       "                border: none;\n",
       "                /* Needs to be in here for Safari polyfill so background images work as expected. */\n",
       "                background-size: auto;\n",
       "            }\n",
       "            .progress-bar-interrupted, .progress-bar-interrupted::-webkit-progress-bar {\n",
       "                background: #F44336;\n",
       "            }\n",
       "        </style>\n",
       "      <progress value='10000' class='' max='10000' style='width:300px; height:20px; vertical-align: middle;'></progress>\n",
       "      100.00% [10000/10000 9:51:36<00:00 Sampling 2 chains, 31 divergences]\n",
       "    </div>\n",
       "    "
      ],
      "text/plain": [
       "<IPython.core.display.HTML object>"
      ]
     },
     "metadata": {},
     "output_type": "display_data"
    },
    {
     "name": "stderr",
     "output_type": "stream",
     "text": [
      "Sampling 2 chains for 1_000 tune and 4_000 draw iterations (2_000 + 8_000 draws total) took 35497 seconds.\n",
      "There were 21 divergences after tuning. Increase `target_accept` or reparameterize.\n",
      "There were 10 divergences after tuning. Increase `target_accept` or reparameterize.\n",
      "The rhat statistic is larger than 1.05 for some parameters. This indicates slight problems during sampling.\n",
      "The estimated number of effective samples is smaller than 200 for some parameters.\n"
     ]
    },
    {
     "name": "stdout",
     "output_type": "stream",
     "text": [
      "pr_beta_I_begin was set to default value 100\n",
      "pr_median_lambda_0 was set to default value 0.4\n",
      "pr_sigma_lambda_0 was set to default value 0.5\n",
      "pr_median_mu was set to default value 0.125\n",
      "pr_sigma_mu was set to default value 0.2\n",
      "pr_median_delay was set to default value 8\n",
      "pr_sigma_delay was set to default value 0.2\n",
      "pr_beta_sigma_obs was set to default value 10\n",
      "pr_median_transient_len of change point 2 was set to default value 3\n",
      "pr_sigma_transient_len of change point 2 was set to default value 0.3\n"
     ]
    },
    {
     "name": "stderr",
     "output_type": "stream",
     "text": [
      "Auto-assigning NUTS sampler...\n",
      "Initializing NUTS using advi...\n"
     ]
    },
    {
     "data": {
      "text/html": [
       "\n",
       "    <div>\n",
       "        <style>\n",
       "            /* Turns off some styling */\n",
       "            progress {\n",
       "                /* gets rid of default border in Firefox and Opera. */\n",
       "                border: none;\n",
       "                /* Needs to be in here for Safari polyfill so background images work as expected. */\n",
       "                background-size: auto;\n",
       "            }\n",
       "            .progress-bar-interrupted, .progress-bar-interrupted::-webkit-progress-bar {\n",
       "                background: #F44336;\n",
       "            }\n",
       "        </style>\n",
       "      <progress value='19186' class='' max='200000' style='width:300px; height:20px; vertical-align: middle;'></progress>\n",
       "      9.59% [19186/200000 03:43<35:08 Average Loss = 1,410.9]\n",
       "    </div>\n",
       "    "
      ],
      "text/plain": [
       "<IPython.core.display.HTML object>"
      ]
     },
     "metadata": {},
     "output_type": "display_data"
    },
    {
     "name": "stderr",
     "output_type": "stream",
     "text": [
      "Convergence achieved at 19200\n",
      "Interrupted at 19,199 [9%]: Average Loss = 1,960.4\n",
      "Multiprocess sampling (2 chains in 2 jobs)\n",
      "NUTS: [sigma_obs, delay, mu, transient_len_2, transient_len_1, transient_len_0, transient_begin_2, transient_begin_1, transient_begin_0, lambda_3, lambda_2, lambda_1, lambda_0, I_begin]\n"
     ]
    },
    {
     "data": {
      "text/html": [
       "\n",
       "    <div>\n",
       "        <style>\n",
       "            /* Turns off some styling */\n",
       "            progress {\n",
       "                /* gets rid of default border in Firefox and Opera. */\n",
       "                border: none;\n",
       "                /* Needs to be in here for Safari polyfill so background images work as expected. */\n",
       "                background-size: auto;\n",
       "            }\n",
       "            .progress-bar-interrupted, .progress-bar-interrupted::-webkit-progress-bar {\n",
       "                background: #F44336;\n",
       "            }\n",
       "        </style>\n",
       "      <progress value='10000' class='' max='10000' style='width:300px; height:20px; vertical-align: middle;'></progress>\n",
       "      100.00% [10000/10000 10:26:15<00:00 Sampling 2 chains, 0 divergences]\n",
       "    </div>\n",
       "    "
      ],
      "text/plain": [
       "<IPython.core.display.HTML object>"
      ]
     },
     "metadata": {},
     "output_type": "display_data"
    },
    {
     "name": "stderr",
     "output_type": "stream",
     "text": [
      "Sampling 2 chains for 1_000 tune and 4_000 draw iterations (2_000 + 8_000 draws total) took 37576 seconds.\n",
      "The number of effective samples is smaller than 10% for some parameters.\n"
     ]
    }
   ],
   "source": [
    "\n",
    "confirmed_cases = cov19.get_jhu_confirmed_cases()\n",
    "\n",
    "country = 'US'\n",
    "date_data_begin = datetime.datetime(2020,3,8)\n",
    "date_data_end   = cov19.get_last_date(confirmed_cases)\n",
    "\n",
    "#date_data_end   = datetime.datetime(2020,3,28)\n",
    "num_days_data = (date_data_end-date_data_begin).days\n",
    "diff_data_sim = 16 # should be significantly larger than the expected delay, in \n",
    "                   # order to always fit the same number of data points.\n",
    "num_days_future = 180\n",
    "date_begin_sim = date_data_begin - datetime.timedelta(days = diff_data_sim)\n",
    "date_end_sim   = date_data_end   + datetime.timedelta(days = num_days_future)\n",
    "num_days_sim = (date_end_sim-date_begin_sim).days\n",
    "\n",
    "\n",
    "cases_obs = cov19.filter_one_country(confirmed_cases, country,\n",
    "                                     date_data_begin, date_data_end)\n",
    "\n",
    "print('Cases yesterday ({}): {} and '\n",
    "      'day before yesterday: {}'.format(date_data_end.isoformat(), *cases_obs[:-3:-1]))\n",
    "\n",
    "prior_date_mild_dist_begin =  datetime.datetime(2020,3,20)\n",
    "prior_date_strong_dist_begin =  datetime.datetime(2020,4,27)\n",
    "prior_date_contact_ban_begin =  datetime.datetime(2020,6,15)\n",
    "\n",
    "change_points = [dict(pr_mean_date_begin_transient = prior_date_mild_dist_begin,\n",
    "                      pr_sigma_date_begin_transient = 3,\n",
    "                      pr_median_lambda = 0.2,\n",
    "                      pr_sigma_lambda = 0.5),\n",
    "                 dict(pr_mean_date_begin_transient = prior_date_strong_dist_begin,\n",
    "                      pr_sigma_date_begin_transient = 1,\n",
    "                      pr_median_lambda = 0.4,\n",
    "                      pr_sigma_lambda = 0.5),\n",
    "                 dict(pr_mean_date_begin_transient = prior_date_contact_ban_begin,\n",
    "                      pr_sigma_date_begin_transient = 1,\n",
    "                      pr_median_lambda = 0.5,\n",
    "                      pr_sigma_lambda = 0.5)]\n",
    "\n",
    "traces = []\n",
    "models = []\n",
    "for num_change_points in range(4):\n",
    "    model = cov19.SIR_with_change_points(new_cases_obs = np.diff(cases_obs),\n",
    "                                        change_points_list = change_points[:num_change_points],\n",
    "                                        date_begin_simulation = date_begin_sim,\n",
    "                                        num_days_sim = num_days_sim,\n",
    "                                        diff_data_sim = diff_data_sim,\n",
    "                                        N = 328e6,\n",
    "                                        priors_dict=None)\n",
    "    models.append(model)\n",
    "\n",
    "    traces.append(pm.sample(model=model, init='advi', draws=1000))"
   ]
  },
  {
   "cell_type": "code",
   "execution_count": 4,
   "metadata": {},
   "outputs": [
    {
     "name": "stdout",
     "output_type": "stream",
     "text": [
      "Collecting git+https://github.com/Priesemann-Group/covid19_inference.git\n",
      "  Cloning https://github.com/Priesemann-Group/covid19_inference.git to /private/var/folders/qr/hdfcfrpx0hj50l5g7lwg7ygc0000gn/T/pip-req-build-_sq_bmde\n",
      "  Running command git clone -q https://github.com/Priesemann-Group/covid19_inference.git /private/var/folders/qr/hdfcfrpx0hj50l5g7lwg7ygc0000gn/T/pip-req-build-_sq_bmde\n",
      "Requirement already satisfied: pymc3 in /Users/jessica/opt/anaconda3/lib/python3.7/site-packages (from covid19-inference==0.1.8a0) (3.9.2)\n",
      "Requirement already satisfied: matplotlib in /Users/jessica/opt/anaconda3/lib/python3.7/site-packages (from covid19-inference==0.1.8a0) (3.1.3)\n",
      "Requirement already satisfied: numpy in /Users/jessica/opt/anaconda3/lib/python3.7/site-packages (from covid19-inference==0.1.8a0) (1.18.1)\n",
      "Requirement already satisfied: pandas in /Users/jessica/opt/anaconda3/lib/python3.7/site-packages (from covid19-inference==0.1.8a0) (1.0.1)\n",
      "Requirement already satisfied: theano in /Users/jessica/opt/anaconda3/lib/python3.7/site-packages (from covid19-inference==0.1.8a0) (1.0.4)\n",
      "Requirement already satisfied: typing-extensions>=3.7.4 in /Users/jessica/opt/anaconda3/lib/python3.7/site-packages (from pymc3->covid19-inference==0.1.8a0) (3.7.4.2)\n",
      "Requirement already satisfied: scipy>=0.18.1 in /Users/jessica/opt/anaconda3/lib/python3.7/site-packages (from pymc3->covid19-inference==0.1.8a0) (1.4.1)\n",
      "Requirement already satisfied: patsy>=0.5.1 in /Users/jessica/opt/anaconda3/lib/python3.7/site-packages (from pymc3->covid19-inference==0.1.8a0) (0.5.1)\n",
      "Requirement already satisfied: fastprogress>=0.2.0 in /Users/jessica/opt/anaconda3/lib/python3.7/site-packages (from pymc3->covid19-inference==0.1.8a0) (0.2.3)\n",
      "Requirement already satisfied: arviz>=0.9.0 in /Users/jessica/opt/anaconda3/lib/python3.7/site-packages (from pymc3->covid19-inference==0.1.8a0) (0.9.0)\n",
      "Requirement already satisfied: h5py>=2.7.0 in /Users/jessica/opt/anaconda3/lib/python3.7/site-packages (from pymc3->covid19-inference==0.1.8a0) (2.10.0)\n",
      "Requirement already satisfied: pyparsing!=2.0.4,!=2.1.2,!=2.1.6,>=2.0.1 in /Users/jessica/opt/anaconda3/lib/python3.7/site-packages (from matplotlib->covid19-inference==0.1.8a0) (2.4.6)\n",
      "Requirement already satisfied: cycler>=0.10 in /Users/jessica/opt/anaconda3/lib/python3.7/site-packages (from matplotlib->covid19-inference==0.1.8a0) (0.10.0)\n",
      "Requirement already satisfied: kiwisolver>=1.0.1 in /Users/jessica/opt/anaconda3/lib/python3.7/site-packages (from matplotlib->covid19-inference==0.1.8a0) (1.1.0)\n",
      "Requirement already satisfied: python-dateutil>=2.1 in /Users/jessica/opt/anaconda3/lib/python3.7/site-packages (from matplotlib->covid19-inference==0.1.8a0) (2.8.1)\n",
      "Requirement already satisfied: pytz>=2017.2 in /Users/jessica/opt/anaconda3/lib/python3.7/site-packages (from pandas->covid19-inference==0.1.8a0) (2019.3)\n",
      "Requirement already satisfied: six>=1.9.0 in /Users/jessica/opt/anaconda3/lib/python3.7/site-packages (from theano->covid19-inference==0.1.8a0) (1.14.0)\n",
      "Requirement already satisfied: xarray>=0.11 in /Users/jessica/opt/anaconda3/lib/python3.7/site-packages (from arviz>=0.9.0->pymc3->covid19-inference==0.1.8a0) (0.15.1)\n",
      "Requirement already satisfied: netcdf4 in /Users/jessica/opt/anaconda3/lib/python3.7/site-packages (from arviz>=0.9.0->pymc3->covid19-inference==0.1.8a0) (1.5.3)\n",
      "Requirement already satisfied: packaging in /Users/jessica/opt/anaconda3/lib/python3.7/site-packages (from arviz>=0.9.0->pymc3->covid19-inference==0.1.8a0) (20.1)\n",
      "Requirement already satisfied: setuptools in /Users/jessica/opt/anaconda3/lib/python3.7/site-packages (from kiwisolver>=1.0.1->matplotlib->covid19-inference==0.1.8a0) (46.0.0.post20200309)\n",
      "Requirement already satisfied: cftime in /Users/jessica/opt/anaconda3/lib/python3.7/site-packages (from netcdf4->arviz>=0.9.0->pymc3->covid19-inference==0.1.8a0) (1.1.3)\n",
      "Building wheels for collected packages: covid19-inference\n",
      "  Building wheel for covid19-inference (setup.py) ... \u001b[?25ldone\n",
      "\u001b[?25h  Created wheel for covid19-inference: filename=covid19_inference-0.1.8a0-py3-none-any.whl size=85373 sha256=91eee3b4569ee04a9b8c2d7e7c1830a57a9872b9a98d4b1634390ad37da96eb4\n",
      "  Stored in directory: /private/var/folders/qr/hdfcfrpx0hj50l5g7lwg7ygc0000gn/T/pip-ephem-wheel-cache-g4e0lg0m/wheels/49/b1/39/e7c95d0fd9fc85ca2618197f9099261dc2ec4099c681f9a8a1\n",
      "Successfully built covid19-inference\n",
      "Installing collected packages: covid19-inference\n",
      "  Attempting uninstall: covid19-inference\n",
      "    Found existing installation: covid19-inference 0.0.10\n",
      "    Uninstalling covid19-inference-0.0.10:\n",
      "      Successfully uninstalled covid19-inference-0.0.10\n",
      "Successfully installed covid19-inference-0.1.8a0\n"
     ]
    }
   ],
   "source": [
    "!pip install git+https://github.com/Priesemann-Group/covid19_inference.git\n",
    "    \n",
    "    "
   ]
  },
  {
   "cell_type": "code",
   "execution_count": 21,
   "metadata": {
    "scrolled": false
   },
   "outputs": [
    {
     "name": "stdout",
     "output_type": "stream",
     "text": [
      "Collecting git+https://github.com/Priesemann-Group/covid19_inference_forecast.git\n",
      "  Cloning https://github.com/Priesemann-Group/covid19_inference_forecast.git to /private/var/folders/qr/hdfcfrpx0hj50l5g7lwg7ygc0000gn/T/pip-req-build-mristqgr\n",
      "  Running command git clone -q https://github.com/Priesemann-Group/covid19_inference_forecast.git /private/var/folders/qr/hdfcfrpx0hj50l5g7lwg7ygc0000gn/T/pip-req-build-mristqgr\n",
      "  warning: the following paths have collided (e.g. case-sensitive paths\n",
      "  on a case-insensitive filesystem) and only one from the same\n",
      "  colliding group is in the working tree:\n",
      "\n",
      "    'DISCLAIMER.md'\n",
      "    'disclaimer.md'\n",
      "Building wheels for collected packages: covid19-inference\n",
      "  Building wheel for covid19-inference (setup.py) ... \u001b[?25ldone\n",
      "\u001b[?25h  Created wheel for covid19-inference: filename=covid19_inference-0.0.10-py3-none-any.whl size=27625 sha256=be392c3fc00f2d915191984944dbfacc59cc922dc7394ec81328596475116dee\n",
      "  Stored in directory: /private/var/folders/qr/hdfcfrpx0hj50l5g7lwg7ygc0000gn/T/pip-ephem-wheel-cache-w_0at_92/wheels/cc/33/51/375e62e25122e2286fa440949767c3f7f3e2e75f7a2cd4ca7e\n",
      "Successfully built covid19-inference\n",
      "Installing collected packages: covid19-inference\n",
      "  Attempting uninstall: covid19-inference\n",
      "    Found existing installation: covid19-inference 0.1.8a0\n",
      "    Uninstalling covid19-inference-0.1.8a0:\n",
      "      Successfully uninstalled covid19-inference-0.1.8a0\n",
      "Successfully installed covid19-inference-0.0.10\n"
     ]
    }
   ],
   "source": [
    "!pip install git+https://github.com/Priesemann-Group/covid19_inference_forecast.git\n"
   ]
  },
  {
   "cell_type": "code",
   "execution_count": 34,
   "metadata": {},
   "outputs": [],
   "source": [
    "import trace"
   ]
  },
  {
   "cell_type": "code",
   "execution_count": 35,
   "metadata": {},
   "outputs": [
    {
     "ename": "AttributeError",
     "evalue": "module 'trace' has no attribute 'new_cases'",
     "output_type": "error",
     "traceback": [
      "\u001b[0;31m---------------------------------------------------------------------------\u001b[0m",
      "\u001b[0;31mAttributeError\u001b[0m                            Traceback (most recent call last)",
      "\u001b[0;32m<ipython-input-35-dc84407afcc3>\u001b[0m in \u001b[0;36m<module>\u001b[0;34m\u001b[0m\n\u001b[1;32m      2\u001b[0m \u001b[0mtime\u001b[0m \u001b[0;34m=\u001b[0m \u001b[0mnp\u001b[0m\u001b[0;34m.\u001b[0m\u001b[0marange\u001b[0m\u001b[0;34m(\u001b[0m\u001b[0;34m-\u001b[0m\u001b[0mlen\u001b[0m\u001b[0;34m(\u001b[0m\u001b[0mcases_obs\u001b[0m\u001b[0;34m)\u001b[0m\u001b[0;34m+\u001b[0m\u001b[0;36m1\u001b[0m\u001b[0;34m,\u001b[0m \u001b[0;36m0\u001b[0m\u001b[0;34m)\u001b[0m\u001b[0;34m\u001b[0m\u001b[0;34m\u001b[0m\u001b[0m\n\u001b[1;32m      3\u001b[0m \u001b[0mmpl_dates\u001b[0m \u001b[0;34m=\u001b[0m \u001b[0mconv_time_to_mpl_dates\u001b[0m\u001b[0;34m(\u001b[0m\u001b[0mtime\u001b[0m\u001b[0;34m)\u001b[0m\u001b[0;34m\u001b[0m\u001b[0;34m\u001b[0m\u001b[0m\n\u001b[0;32m----> 4\u001b[0;31m ax.plot(mpl_dates, np.abs(np.median(trace.new_cases[:, :num_days_data], axis=0) - np.diff(cases_obs)), \n\u001b[0m\u001b[1;32m      5\u001b[0m         \u001b[0;34m'd'\u001b[0m\u001b[0;34m,\u001b[0m \u001b[0mmarkersize\u001b[0m\u001b[0;34m=\u001b[0m\u001b[0;36m6\u001b[0m\u001b[0;34m,\u001b[0m\u001b[0;34m\u001b[0m\u001b[0;34m\u001b[0m\u001b[0m\n\u001b[1;32m      6\u001b[0m          \u001b[0mlabel\u001b[0m\u001b[0;34m=\u001b[0m\u001b[0;34m'Absolute difference\\n'\u001b[0m\u001b[0;34m\u001b[0m\u001b[0;34m\u001b[0m\u001b[0m\n",
      "\u001b[0;31mAttributeError\u001b[0m: module 'trace' has no attribute 'new_cases'"
     ]
    },
    {
     "data": {
      "image/png": "[encoded data removed]",
      "text/plain": [
       "<Figure size 360x288 with 1 Axes>"
      ]
     },
     "metadata": {
      "needs_background": "light"
     },
     "output_type": "display_data"
    }
   ],
   "source": [
    "fig, ax = plt.subplots(figsize=(5,4))\n",
    "time = np.arange(-len(cases_obs)+1, 0)\n",
    "mpl_dates = conv_time_to_mpl_dates(time) \n",
    "ax.plot(mpl_dates, np.abs(np.median(trace.new_cases[:, :num_days_data], axis=0) - np.diff(cases_obs)), \n",
    "        'd', markersize=6,\n",
    "         label='Absolute difference\\n'\n",
    "               'between fit and data')\n",
    "ax.plot(mpl_dates, np.sqrt(np.median(trace.new_cases[:, :num_days_data], axis=0))*np.median(trace.sigma_obs, axis=0),\n",
    "         label='Width of the likelihood', lw=3)\n",
    "ax.set_ylabel('Difference (number of new cases)')\n",
    "ax.set_xlabel('Date')\n",
    "ax.legend(loc='upper left')\n",
    "print(np.median(np.sum(trace.new_cases[:, :num_days_data], axis=1)+ trace.I_begin))\n",
    "#plt.tight_layout()\n",
    "ax.xaxis.set_major_locator(matplotlib.dates.AutoDateLocator())\n",
    "ax.xaxis.set_major_formatter(matplotlib.dates.DateFormatter('%-m/%-d'))\n"
   ]
  },
  {
   "cell_type": "code",
   "execution_count": 36,
   "metadata": {},
   "outputs": [
    {
     "ename": "NameError",
     "evalue": "name 'create_figure_0' is not defined",
     "output_type": "error",
     "traceback": [
      "\u001b[0;31m---------------------------------------------------------------------------\u001b[0m",
      "\u001b[0;31mNameError\u001b[0m                                 Traceback (most recent call last)",
      "\u001b[0;32m<ipython-input-36-81d005b5fc5d>\u001b[0m in \u001b[0;36m<module>\u001b[0;34m\u001b[0m\n\u001b[0;32m----> 1\u001b[0;31m \u001b[0mcreate_figure_0\u001b[0m\u001b[0;34m(\u001b[0m\u001b[0msave_to\u001b[0m \u001b[0;34m=\u001b[0m \u001b[0mpath_to_save\u001b[0m\u001b[0;34m)\u001b[0m\u001b[0;34m\u001b[0m\u001b[0;34m\u001b[0m\u001b[0m\n\u001b[0m",
      "\u001b[0;31mNameError\u001b[0m: name 'create_figure_0' is not defined"
     ]
    }
   ],
   "source": [
    "create_figure_0(save_to = path_to_save)"
   ]
  },
  {
   "cell_type": "code",
   "execution_count": 37,
   "metadata": {},
   "outputs": [
    {
     "ename": "FileNotFoundError",
     "evalue": "[Errno 2] No such file or directory: 'figures.py'",
     "output_type": "error",
     "traceback": [
      "\u001b[0;31m---------------------------------------------------------------------------\u001b[0m",
      "\u001b[0;31mFileNotFoundError\u001b[0m                         Traceback (most recent call last)",
      "\u001b[0;32m<ipython-input-37-70ad77dacfbc>\u001b[0m in \u001b[0;36m<module>\u001b[0;34m\u001b[0m\n\u001b[0;32m----> 1\u001b[0;31m \u001b[0mexec\u001b[0m\u001b[0;34m(\u001b[0m\u001b[0mopen\u001b[0m\u001b[0;34m(\u001b[0m\u001b[0;34m'figures.py'\u001b[0m\u001b[0;34m)\u001b[0m\u001b[0;34m.\u001b[0m\u001b[0mread\u001b[0m\u001b[0;34m(\u001b[0m\u001b[0;34m)\u001b[0m\u001b[0;34m)\u001b[0m\u001b[0;34m\u001b[0m\u001b[0;34m\u001b[0m\u001b[0m\n\u001b[0m",
      "\u001b[0;31mFileNotFoundError\u001b[0m: [Errno 2] No such file or directory: 'figures.py'"
     ]
    }
   ],
   "source": [
    "exec(open('figures.py').read())"
   ]
  },
  {
   "cell_type": "code",
   "execution_count": 30,
   "metadata": {},
   "outputs": [
    {
     "ename": "NameError",
     "evalue": "name 'create_figure_3_timeseries' is not defined",
     "output_type": "error",
     "traceback": [
      "\u001b[0;31m---------------------------------------------------------------------------\u001b[0m",
      "\u001b[0;31mNameError\u001b[0m                                 Traceback (most recent call last)",
      "\u001b[0;32m<ipython-input-30-28b442602c48>\u001b[0m in \u001b[0;36m<module>\u001b[0;34m\u001b[0m\n\u001b[0;32m----> 1\u001b[0;31m \u001b[0mcreate_figure_3_timeseries\u001b[0m\u001b[0;34m(\u001b[0m\u001b[0msave_to\u001b[0m\u001b[0;34m=\u001b[0m\u001b[0mpath_to_save\u001b[0m\u001b[0;34m)\u001b[0m\u001b[0;34m\u001b[0m\u001b[0;34m\u001b[0m\u001b[0m\n\u001b[0m",
      "\u001b[0;31mNameError\u001b[0m: name 'create_figure_3_timeseries' is not defined"
     ]
    }
   ],
   "source": [
    "create_figure_3_timeseries(save_to=path_to_save)"
   ]
  },
  {
   "cell_type": "code",
   "execution_count": 28,
   "metadata": {},
   "outputs": [
    {
     "ename": "NameError",
     "evalue": "name 'create_figure_3_distributions' is not defined",
     "output_type": "error",
     "traceback": [
      "\u001b[0;31m---------------------------------------------------------------------------\u001b[0m",
      "\u001b[0;31mNameError\u001b[0m                                 Traceback (most recent call last)",
      "\u001b[0;32m<ipython-input-28-b4ff0cb39999>\u001b[0m in \u001b[0;36m<module>\u001b[0;34m\u001b[0m\n\u001b[0;32m----> 1\u001b[0;31m create_figure_3_distributions(models[1], traces[1], layout=2,\n\u001b[0m\u001b[1;32m      2\u001b[0m                               \u001b[0madditional_insets\u001b[0m \u001b[0;34m=\u001b[0m \u001b[0;32mNone\u001b[0m\u001b[0;34m,\u001b[0m \u001b[0mxlim_lambda\u001b[0m \u001b[0;34m=\u001b[0m \u001b[0;34m(\u001b[0m\u001b[0;36m0\u001b[0m\u001b[0;34m,\u001b[0m \u001b[0;36m0.53\u001b[0m\u001b[0;34m)\u001b[0m\u001b[0;34m,\u001b[0m \u001b[0mcolor\u001b[0m \u001b[0;34m=\u001b[0m \u001b[0;34m'tab:red'\u001b[0m\u001b[0;34m,\u001b[0m\u001b[0;34m\u001b[0m\u001b[0;34m\u001b[0m\u001b[0m\n\u001b[1;32m      3\u001b[0m                               num_changepoints=1, xlim_tbegin=7, save_to = path_to_save +'Fig_S2')\n\u001b[1;32m      4\u001b[0m create_figure_3_distributions(models[2], traces[2], layout=2,\n\u001b[1;32m      5\u001b[0m                               \u001b[0madditional_insets\u001b[0m \u001b[0;34m=\u001b[0m \u001b[0;32mNone\u001b[0m\u001b[0;34m,\u001b[0m \u001b[0mxlim_lambda\u001b[0m \u001b[0;34m=\u001b[0m \u001b[0;34m(\u001b[0m\u001b[0;36m0\u001b[0m\u001b[0;34m,\u001b[0m \u001b[0;36m0.53\u001b[0m\u001b[0;34m)\u001b[0m\u001b[0;34m,\u001b[0m \u001b[0mcolor\u001b[0m \u001b[0;34m=\u001b[0m \u001b[0;34m'tab:orange'\u001b[0m\u001b[0;34m,\u001b[0m\u001b[0;34m\u001b[0m\u001b[0;34m\u001b[0m\u001b[0m\n",
      "\u001b[0;31mNameError\u001b[0m: name 'create_figure_3_distributions' is not defined"
     ]
    }
   ],
   "source": [
    "create_figure_3_distributions(models[1], traces[1], layout=2,\n",
    "                              additional_insets = None, xlim_lambda = (0, 0.53), color = 'tab:red',\n",
    "                              num_changepoints=1, xlim_tbegin=7, save_to = path_to_save +'Fig_S2')\n",
    "create_figure_3_distributions(models[2], traces[2], layout=2,\n",
    "                              additional_insets = None, xlim_lambda = (0, 0.53), color = 'tab:orange',\n",
    "                              num_changepoints=2, xlim_tbegin=7, save_to = path_to_save +'Fig_4')\n",
    "create_figure_3_distributions(models[3], traces[3], layout=2,\n",
    "                              additional_insets = None, xlim_lambda = (0, 0.53), color = 'tab:green',\n",
    "                              num_changepoints=3, save_to = path_to_save + 'Fig_S4')"
   ]
  },
  {
   "cell_type": "code",
   "execution_count": 27,
   "metadata": {},
   "outputs": [
    {
     "name": "stdout",
     "output_type": "stream",
     "text": [
      "\n",
      "0 step model\n",
      "\n"
     ]
    },
    {
     "name": "stderr",
     "output_type": "stream",
     "text": [
      "/Users/jessica/opt/anaconda3/lib/python3.7/site-packages/arviz/data/io_pymc3.py:89: FutureWarning: Using `from_pymc3` without the model will be deprecated in a future release. Not using the model will return less accurate and less useful results. Make sure you use the model argument or call from_pymc3 within a model context.\n",
      "  FutureWarning,\n"
     ]
    },
    {
     "name": "stdout",
     "output_type": "stream",
     "text": [
      "Computed from 8000 by 121 log-likelihood matrix\n",
      "\n",
      "         Estimate       SE\n",
      "elpd_loo -1556.20    34.19\n",
      "p_loo       17.89        -\n",
      "------\n",
      "\n",
      "Pareto k diagnostic values:\n",
      "                         Count   Pct.\n",
      "(-Inf, 0.5]   (good)      119   98.3%\n",
      " (0.5, 0.7]   (ok)          2    1.7%\n",
      "   (0.7, 1]   (bad)         0    0.0%\n",
      "   (1, Inf)   (very bad)    0    0.0%\n",
      "\n",
      "\n",
      "The scale is now log by default. Use 'scale' argument or 'stats.ic_scale' rcParam if\n",
      "you rely on a specific value.\n",
      "A higher log-score (or a lower deviance) indicates a model with better predictive\n",
      "accuracy.\n",
      "\n",
      "1 step model\n",
      "\n"
     ]
    },
    {
     "name": "stderr",
     "output_type": "stream",
     "text": [
      "/Users/jessica/opt/anaconda3/lib/python3.7/site-packages/arviz/data/io_pymc3.py:89: FutureWarning: Using `from_pymc3` without the model will be deprecated in a future release. Not using the model will return less accurate and less useful results. Make sure you use the model argument or call from_pymc3 within a model context.\n",
      "  FutureWarning,\n"
     ]
    },
    {
     "name": "stdout",
     "output_type": "stream",
     "text": [
      "Computed from 8000 by 121 log-likelihood matrix\n",
      "\n",
      "         Estimate       SE\n",
      "elpd_loo -1168.64    17.41\n",
      "p_loo       15.06        -\n",
      "------\n",
      "\n",
      "Pareto k diagnostic values:\n",
      "                         Count   Pct.\n",
      "(-Inf, 0.5]   (good)      118   97.5%\n",
      " (0.5, 0.7]   (ok)          3    2.5%\n",
      "   (0.7, 1]   (bad)         0    0.0%\n",
      "   (1, Inf)   (very bad)    0    0.0%\n",
      "\n",
      "\n",
      "The scale is now log by default. Use 'scale' argument or 'stats.ic_scale' rcParam if\n",
      "you rely on a specific value.\n",
      "A higher log-score (or a lower deviance) indicates a model with better predictive\n",
      "accuracy.\n",
      "\n",
      "2 steps model\n",
      "\n"
     ]
    },
    {
     "name": "stderr",
     "output_type": "stream",
     "text": [
      "/Users/jessica/opt/anaconda3/lib/python3.7/site-packages/arviz/data/io_pymc3.py:89: FutureWarning: Using `from_pymc3` without the model will be deprecated in a future release. Not using the model will return less accurate and less useful results. Make sure you use the model argument or call from_pymc3 within a model context.\n",
      "  FutureWarning,\n",
      "/Users/jessica/opt/anaconda3/lib/python3.7/site-packages/arviz/stats/stats.py:683: UserWarning: Estimated shape parameter of Pareto distribution is greater than 0.7 for one or more samples. You should consider using a more robust model, this is because importance sampling is less likely to work well if the marginal posterior and LOO posterior are very different. This is more likely to happen with a non-robust model and highly influential observations.\n",
      "  \"Estimated shape parameter of Pareto distribution is greater than 0.7 for \"\n",
      "/Users/jessica/opt/anaconda3/lib/python3.7/site-packages/arviz/data/io_pymc3.py:89: FutureWarning: Using `from_pymc3` without the model will be deprecated in a future release. Not using the model will return less accurate and less useful results. Make sure you use the model argument or call from_pymc3 within a model context.\n",
      "  FutureWarning,\n"
     ]
    },
    {
     "name": "stdout",
     "output_type": "stream",
     "text": [
      "Computed from 8000 by 121 log-likelihood matrix\n",
      "\n",
      "         Estimate       SE\n",
      "elpd_loo -1163.64    16.78\n",
      "p_loo       26.75        -\n",
      "\n",
      "There has been a warning during the calculation. Please check the results.\n",
      "------\n",
      "\n",
      "Pareto k diagnostic values:\n",
      "                         Count   Pct.\n",
      "(-Inf, 0.5]   (good)      116   95.9%\n",
      " (0.5, 0.7]   (ok)          2    1.7%\n",
      "   (0.7, 1]   (bad)         3    2.5%\n",
      "   (1, Inf)   (very bad)    0    0.0%\n",
      "\n",
      "\n",
      "The scale is now log by default. Use 'scale' argument or 'stats.ic_scale' rcParam if\n",
      "you rely on a specific value.\n",
      "A higher log-score (or a lower deviance) indicates a model with better predictive\n",
      "accuracy.\n",
      "\n",
      "3 steps model\n",
      "\n",
      "Computed from 8000 by 121 log-likelihood matrix\n",
      "\n",
      "         Estimate       SE\n",
      "elpd_loo -1107.57    14.34\n",
      "p_loo       14.62        -\n",
      "\n",
      "There has been a warning during the calculation. Please check the results.\n",
      "------\n",
      "\n",
      "Pareto k diagnostic values:\n",
      "                         Count   Pct.\n",
      "(-Inf, 0.5]   (good)      114   94.2%\n",
      " (0.5, 0.7]   (ok)          1    0.8%\n",
      "   (0.7, 1]   (bad)         5    4.1%\n",
      "   (1, Inf)   (very bad)    1    0.8%\n",
      "\n",
      "\n",
      "The scale is now log by default. Use 'scale' argument or 'stats.ic_scale' rcParam if\n",
      "you rely on a specific value.\n",
      "A higher log-score (or a lower deviance) indicates a model with better predictive\n",
      "accuracy.\n"
     ]
    },
    {
     "name": "stderr",
     "output_type": "stream",
     "text": [
      "/Users/jessica/opt/anaconda3/lib/python3.7/site-packages/arviz/stats/stats.py:683: UserWarning: Estimated shape parameter of Pareto distribution is greater than 0.7 for one or more samples. You should consider using a more robust model, this is because importance sampling is less likely to work well if the marginal posterior and LOO posterior are very different. This is more likely to happen with a non-robust model and highly influential observations.\n",
      "  \"Estimated shape parameter of Pareto distribution is greater than 0.7 for \"\n"
     ]
    }
   ],
   "source": [
    "print('\\n0 step model\\n')\n",
    "print(pm.loo(traces[0], model))\n",
    "\n",
    "print('\\n1 step model\\n')\n",
    "print(pm.loo(traces[1], model))\n",
    "\n",
    "print('\\n2 steps model\\n')\n",
    "print(pm.loo(traces[2], model))\n",
    "\n",
    "print('\\n3 steps model\\n')\n",
    "print(pm.loo(traces[3], model))"
   ]
  },
  {
   "cell_type": "code",
   "execution_count": null,
   "metadata": {},
   "outputs": [],
   "source": [
    "for i in range(4):\n",
    "    print('λ_{}*: '.format(i))\n",
    "    print(print_median_CI(trace['lambda_{}'.format(i)] - trace.mu, prec=3))\n",
    "    print('\\n')"
   ]
  },
  {
   "cell_type": "code",
   "execution_count": 38,
   "metadata": {},
   "outputs": [
    {
     "name": "stdout",
     "output_type": "stream",
     "text": [
      "traces[0].λ\n"
     ]
    }
   ],
   "source": [
    "print ('traces[0].λ')"
   ]
  },
  {
   "cell_type": "code",
   "execution_count": 39,
   "metadata": {},
   "outputs": [
    {
     "ename": "NameError",
     "evalue": "name 'i' is not defined",
     "output_type": "error",
     "traceback": [
      "\u001b[0;31m---------------------------------------------------------------------------\u001b[0m",
      "\u001b[0;31mNameError\u001b[0m                                 Traceback (most recent call last)",
      "\u001b[0;32m<ipython-input-39-5b297b7738ca>\u001b[0m in \u001b[0;36m<module>\u001b[0;34m\u001b[0m\n\u001b[0;32m----> 1\u001b[0;31m \u001b[0mprint\u001b[0m\u001b[0;34m(\u001b[0m\u001b[0;34m'λ_{}*: '\u001b[0m\u001b[0;34m.\u001b[0m\u001b[0mformat\u001b[0m\u001b[0;34m(\u001b[0m\u001b[0mi\u001b[0m\u001b[0;34m)\u001b[0m\u001b[0;34m)\u001b[0m\u001b[0;34m\u001b[0m\u001b[0;34m\u001b[0m\u001b[0m\n\u001b[0m",
      "\u001b[0;31mNameError\u001b[0m: name 'i' is not defined"
     ]
    }
   ],
   "source": [
    "print('λ_{}*: '.format(i))"
   ]
  },
  {
   "cell_type": "code",
   "execution_count": 40,
   "metadata": {},
   "outputs": [
    {
     "name": "stdout",
     "output_type": "stream",
     "text": [
      "λ_{}*: \n"
     ]
    }
   ],
   "source": [
    "print ('λ_{}*: ')"
   ]
  },
  {
   "cell_type": "code",
   "execution_count": 43,
   "metadata": {},
   "outputs": [
    {
     "ename": "NameError",
     "evalue": "name 'i' is not defined",
     "output_type": "error",
     "traceback": [
      "\u001b[0;31m---------------------------------------------------------------------------\u001b[0m",
      "\u001b[0;31mNameError\u001b[0m                                 Traceback (most recent call last)",
      "\u001b[0;32m<ipython-input-43-e4897102c2a2>\u001b[0m in \u001b[0;36m<module>\u001b[0;34m\u001b[0m\n\u001b[0;32m----> 1\u001b[0;31m \u001b[0mprint\u001b[0m\u001b[0;34m(\u001b[0m\u001b[0mprint_median_CI\u001b[0m\u001b[0;34m(\u001b[0m\u001b[0mtrace\u001b[0m\u001b[0;34m[\u001b[0m\u001b[0;34m'lambda_{}'\u001b[0m\u001b[0;34m.\u001b[0m\u001b[0mformat\u001b[0m\u001b[0;34m(\u001b[0m\u001b[0mi\u001b[0m\u001b[0;34m)\u001b[0m\u001b[0;34m]\u001b[0m \u001b[0;34m-\u001b[0m \u001b[0mtrace\u001b[0m\u001b[0;34m.\u001b[0m\u001b[0mmu\u001b[0m\u001b[0;34m,\u001b[0m \u001b[0mprec\u001b[0m\u001b[0;34m=\u001b[0m\u001b[0;36m3\u001b[0m\u001b[0;34m)\u001b[0m\u001b[0;34m)\u001b[0m\u001b[0;34m\u001b[0m\u001b[0;34m\u001b[0m\u001b[0m\n\u001b[0m",
      "\u001b[0;31mNameError\u001b[0m: name 'i' is not defined"
     ]
    }
   ],
   "source": [
    "  print(print_median_CI(trace['lambda_{}'.format(i)] - trace.mu, prec=3))"
   ]
  },
  {
   "cell_type": "code",
   "execution_count": 42,
   "metadata": {},
   "outputs": [],
   "source": [
    "def truncate_number(number, precision):\n",
    "    number = round(number, ndigits = precision)\n",
    "    #number = round(number - number%(10**(-precision)),10)\n",
    "    if precision == 0:\n",
    "        number = int(round(number))\n",
    "    return str(number)\n",
    "\n",
    "def print_median_CI(arr, prec = 2):\n",
    "    f_trunc = lambda n: truncate_number(n, prec)\n",
    "    med = f_trunc(np.median(arr))\n",
    "    perc1, perc2 = f_trunc(np.percentile(arr, q=2.5)), f_trunc(np.percentile(arr, q=97.5))\n",
    "    #print('The 95% CI of {} is [{:.3f} , {:.3f}] with a median of {:.3f}'.format(label, med, perc1, perc2))\n",
    "    return 'Median: {}\\nCI: [{}, {}]'.format(med, perc1, perc2)\n",
    "\n",
    "def conv_time_to_mpl_dates(arr):\n",
    "    return matplotlib.dates.date2num([datetime.timedelta(days=float(date)) + date_data_end for date in arr])\n"
   ]
  },
  {
   "cell_type": "code",
   "execution_count": 44,
   "metadata": {},
   "outputs": [
    {
     "ename": "TypeError",
     "evalue": "'module' object is not subscriptable",
     "output_type": "error",
     "traceback": [
      "\u001b[0;31m---------------------------------------------------------------------------\u001b[0m",
      "\u001b[0;31mTypeError\u001b[0m                                 Traceback (most recent call last)",
      "\u001b[0;32m<ipython-input-44-de425c231b3b>\u001b[0m in \u001b[0;36m<module>\u001b[0;34m\u001b[0m\n\u001b[0;32m----> 1\u001b[0;31m \u001b[0mprint\u001b[0m\u001b[0;34m(\u001b[0m\u001b[0mprint_median_CI\u001b[0m\u001b[0;34m(\u001b[0m\u001b[0mtrace\u001b[0m\u001b[0;34m[\u001b[0m\u001b[0;34m'lambda_{}'\u001b[0m\u001b[0;34m]\u001b[0m \u001b[0;34m-\u001b[0m \u001b[0mtrace\u001b[0m\u001b[0;34m.\u001b[0m\u001b[0mmu\u001b[0m\u001b[0;34m,\u001b[0m \u001b[0mprec\u001b[0m\u001b[0;34m=\u001b[0m\u001b[0;36m3\u001b[0m\u001b[0;34m)\u001b[0m\u001b[0;34m)\u001b[0m\u001b[0;34m\u001b[0m\u001b[0;34m\u001b[0m\u001b[0m\n\u001b[0m",
      "\u001b[0;31mTypeError\u001b[0m: 'module' object is not subscriptable"
     ]
    }
   ],
   "source": [
    "print(print_median_CI(trace['lambda_{}'] - trace.mu, prec=3))"
   ]
  },
  {
   "cell_type": "code",
   "execution_count": 45,
   "metadata": {},
   "outputs": [
    {
     "ename": "SyntaxError",
     "evalue": "invalid syntax (<ipython-input-45-8a11c0825c5c>, line 1)",
     "output_type": "error",
     "traceback": [
      "\u001b[0;36m  File \u001b[0;32m\"<ipython-input-45-8a11c0825c5c>\"\u001b[0;36m, line \u001b[0;32m1\u001b[0m\n\u001b[0;31m    $\\lambda$\u001b[0m\n\u001b[0m    ^\u001b[0m\n\u001b[0;31mSyntaxError\u001b[0m\u001b[0;31m:\u001b[0m invalid syntax\n"
     ]
    }
   ],
   "source": [
    "$\\lambda$"
   ]
  },
  {
   "cell_type": "code",
   "execution_count": 46,
   "metadata": {},
   "outputs": [
    {
     "ename": "SyntaxError",
     "evalue": "invalid syntax (<ipython-input-46-e72941fe8d4c>, line 1)",
     "output_type": "error",
     "traceback": [
      "\u001b[0;36m  File \u001b[0;32m\"<ipython-input-46-e72941fe8d4c>\"\u001b[0;36m, line \u001b[0;32m1\u001b[0m\n\u001b[0;31m    print ($\\lambda$)\u001b[0m\n\u001b[0m           ^\u001b[0m\n\u001b[0;31mSyntaxError\u001b[0m\u001b[0;31m:\u001b[0m invalid syntax\n"
     ]
    }
   ],
   "source": [
    "print ($\\lambda$)"
   ]
  },
  {
   "cell_type": "code",
   "execution_count": 47,
   "metadata": {},
   "outputs": [
    {
     "ename": "AttributeError",
     "evalue": "module 'trace' has no attribute 'λ'",
     "output_type": "error",
     "traceback": [
      "\u001b[0;31m---------------------------------------------------------------------------\u001b[0m",
      "\u001b[0;31mAttributeError\u001b[0m                            Traceback (most recent call last)",
      "\u001b[0;32m<ipython-input-47-aa83dcf9bbd8>\u001b[0m in \u001b[0;36m<module>\u001b[0;34m\u001b[0m\n\u001b[0;32m----> 1\u001b[0;31m \u001b[0mprint_median_CI\u001b[0m\u001b[0;34m(\u001b[0m\u001b[0mtrace\u001b[0m\u001b[0;34m.\u001b[0m\u001b[0mλ\u001b[0m\u001b[0;34m,\u001b[0m \u001b[0mprec\u001b[0m\u001b[0;34m=\u001b[0m\u001b[0;36m2\u001b[0m\u001b[0;34m)\u001b[0m\u001b[0;34m\u001b[0m\u001b[0;34m\u001b[0m\u001b[0m\n\u001b[0m",
      "\u001b[0;31mAttributeError\u001b[0m: module 'trace' has no attribute 'λ'"
     ]
    }
   ],
   "source": [
    "print_median_CI(trace.λ, prec=2)"
   ]
  },
  {
   "cell_type": "code",
   "execution_count": 48,
   "metadata": {},
   "outputs": [
    {
     "ename": "TypeError",
     "evalue": "'<' not supported between instances of 'dict' and 'dict'",
     "output_type": "error",
     "traceback": [
      "\u001b[0;31m---------------------------------------------------------------------------\u001b[0m",
      "\u001b[0;31mTypeError\u001b[0m                                 Traceback (most recent call last)",
      "\u001b[0;32m<ipython-input-48-caefe750a730>\u001b[0m in \u001b[0;36m<module>\u001b[0;34m\u001b[0m\n\u001b[0;32m----> 1\u001b[0;31m \u001b[0mprint_median_CI\u001b[0m\u001b[0;34m(\u001b[0m\u001b[0mtraces\u001b[0m\u001b[0;34m[\u001b[0m\u001b[0;36m1\u001b[0m\u001b[0;34m]\u001b[0m\u001b[0;34m,\u001b[0m \u001b[0mprec\u001b[0m\u001b[0;34m=\u001b[0m\u001b[0;36m2\u001b[0m\u001b[0;34m)\u001b[0m\u001b[0;34m\u001b[0m\u001b[0;34m\u001b[0m\u001b[0m\n\u001b[0m",
      "\u001b[0;32m<ipython-input-42-c9125ce71de4>\u001b[0m in \u001b[0;36mprint_median_CI\u001b[0;34m(arr, prec)\u001b[0m\n\u001b[1;32m      8\u001b[0m \u001b[0;32mdef\u001b[0m \u001b[0mprint_median_CI\u001b[0m\u001b[0;34m(\u001b[0m\u001b[0marr\u001b[0m\u001b[0;34m,\u001b[0m \u001b[0mprec\u001b[0m \u001b[0;34m=\u001b[0m \u001b[0;36m2\u001b[0m\u001b[0;34m)\u001b[0m\u001b[0;34m:\u001b[0m\u001b[0;34m\u001b[0m\u001b[0;34m\u001b[0m\u001b[0m\n\u001b[1;32m      9\u001b[0m     \u001b[0mf_trunc\u001b[0m \u001b[0;34m=\u001b[0m \u001b[0;32mlambda\u001b[0m \u001b[0mn\u001b[0m\u001b[0;34m:\u001b[0m \u001b[0mtruncate_number\u001b[0m\u001b[0;34m(\u001b[0m\u001b[0mn\u001b[0m\u001b[0;34m,\u001b[0m \u001b[0mprec\u001b[0m\u001b[0;34m)\u001b[0m\u001b[0;34m\u001b[0m\u001b[0;34m\u001b[0m\u001b[0m\n\u001b[0;32m---> 10\u001b[0;31m     \u001b[0mmed\u001b[0m \u001b[0;34m=\u001b[0m \u001b[0mf_trunc\u001b[0m\u001b[0;34m(\u001b[0m\u001b[0mnp\u001b[0m\u001b[0;34m.\u001b[0m\u001b[0mmedian\u001b[0m\u001b[0;34m(\u001b[0m\u001b[0marr\u001b[0m\u001b[0;34m)\u001b[0m\u001b[0;34m)\u001b[0m\u001b[0;34m\u001b[0m\u001b[0;34m\u001b[0m\u001b[0m\n\u001b[0m\u001b[1;32m     11\u001b[0m     \u001b[0mperc1\u001b[0m\u001b[0;34m,\u001b[0m \u001b[0mperc2\u001b[0m \u001b[0;34m=\u001b[0m \u001b[0mf_trunc\u001b[0m\u001b[0;34m(\u001b[0m\u001b[0mnp\u001b[0m\u001b[0;34m.\u001b[0m\u001b[0mpercentile\u001b[0m\u001b[0;34m(\u001b[0m\u001b[0marr\u001b[0m\u001b[0;34m,\u001b[0m \u001b[0mq\u001b[0m\u001b[0;34m=\u001b[0m\u001b[0;36m2.5\u001b[0m\u001b[0;34m)\u001b[0m\u001b[0;34m)\u001b[0m\u001b[0;34m,\u001b[0m \u001b[0mf_trunc\u001b[0m\u001b[0;34m(\u001b[0m\u001b[0mnp\u001b[0m\u001b[0;34m.\u001b[0m\u001b[0mpercentile\u001b[0m\u001b[0;34m(\u001b[0m\u001b[0marr\u001b[0m\u001b[0;34m,\u001b[0m \u001b[0mq\u001b[0m\u001b[0;34m=\u001b[0m\u001b[0;36m97.5\u001b[0m\u001b[0;34m)\u001b[0m\u001b[0;34m)\u001b[0m\u001b[0;34m\u001b[0m\u001b[0;34m\u001b[0m\u001b[0m\n\u001b[1;32m     12\u001b[0m     \u001b[0;31m#print('The 95% CI of {} is [{:.3f} , {:.3f}] with a median of {:.3f}'.format(label, med, perc1, perc2))\u001b[0m\u001b[0;34m\u001b[0m\u001b[0;34m\u001b[0m\u001b[0;34m\u001b[0m\u001b[0m\n",
      "\u001b[0;32m<__array_function__ internals>\u001b[0m in \u001b[0;36mmedian\u001b[0;34m(*args, **kwargs)\u001b[0m\n",
      "\u001b[0;32m~/opt/anaconda3/lib/python3.7/site-packages/numpy/lib/function_base.py\u001b[0m in \u001b[0;36mmedian\u001b[0;34m(a, axis, out, overwrite_input, keepdims)\u001b[0m\n\u001b[1;32m   3493\u001b[0m     \"\"\"\n\u001b[1;32m   3494\u001b[0m     r, k = _ureduce(a, func=_median, axis=axis, out=out,\n\u001b[0;32m-> 3495\u001b[0;31m                     overwrite_input=overwrite_input)\n\u001b[0m\u001b[1;32m   3496\u001b[0m     \u001b[0;32mif\u001b[0m \u001b[0mkeepdims\u001b[0m\u001b[0;34m:\u001b[0m\u001b[0;34m\u001b[0m\u001b[0;34m\u001b[0m\u001b[0m\n\u001b[1;32m   3497\u001b[0m         \u001b[0;32mreturn\u001b[0m \u001b[0mr\u001b[0m\u001b[0;34m.\u001b[0m\u001b[0mreshape\u001b[0m\u001b[0;34m(\u001b[0m\u001b[0mk\u001b[0m\u001b[0;34m)\u001b[0m\u001b[0;34m\u001b[0m\u001b[0;34m\u001b[0m\u001b[0m\n",
      "\u001b[0;32m~/opt/anaconda3/lib/python3.7/site-packages/numpy/lib/function_base.py\u001b[0m in \u001b[0;36m_ureduce\u001b[0;34m(a, func, **kwargs)\u001b[0m\n\u001b[1;32m   3401\u001b[0m         \u001b[0mkeepdim\u001b[0m \u001b[0;34m=\u001b[0m \u001b[0;34m(\u001b[0m\u001b[0;36m1\u001b[0m\u001b[0;34m,\u001b[0m\u001b[0;34m)\u001b[0m \u001b[0;34m*\u001b[0m \u001b[0ma\u001b[0m\u001b[0;34m.\u001b[0m\u001b[0mndim\u001b[0m\u001b[0;34m\u001b[0m\u001b[0;34m\u001b[0m\u001b[0m\n\u001b[1;32m   3402\u001b[0m \u001b[0;34m\u001b[0m\u001b[0m\n\u001b[0;32m-> 3403\u001b[0;31m     \u001b[0mr\u001b[0m \u001b[0;34m=\u001b[0m \u001b[0mfunc\u001b[0m\u001b[0;34m(\u001b[0m\u001b[0ma\u001b[0m\u001b[0;34m,\u001b[0m \u001b[0;34m**\u001b[0m\u001b[0mkwargs\u001b[0m\u001b[0;34m)\u001b[0m\u001b[0;34m\u001b[0m\u001b[0;34m\u001b[0m\u001b[0m\n\u001b[0m\u001b[1;32m   3404\u001b[0m     \u001b[0;32mreturn\u001b[0m \u001b[0mr\u001b[0m\u001b[0;34m,\u001b[0m \u001b[0mkeepdim\u001b[0m\u001b[0;34m\u001b[0m\u001b[0;34m\u001b[0m\u001b[0m\n\u001b[1;32m   3405\u001b[0m \u001b[0;34m\u001b[0m\u001b[0m\n",
      "\u001b[0;32m~/opt/anaconda3/lib/python3.7/site-packages/numpy/lib/function_base.py\u001b[0m in \u001b[0;36m_median\u001b[0;34m(a, axis, out, overwrite_input)\u001b[0m\n\u001b[1;32m   3526\u001b[0m             \u001b[0mpart\u001b[0m \u001b[0;34m=\u001b[0m \u001b[0ma\u001b[0m\u001b[0;34m\u001b[0m\u001b[0;34m\u001b[0m\u001b[0m\n\u001b[1;32m   3527\u001b[0m     \u001b[0;32melse\u001b[0m\u001b[0;34m:\u001b[0m\u001b[0;34m\u001b[0m\u001b[0;34m\u001b[0m\u001b[0m\n\u001b[0;32m-> 3528\u001b[0;31m         \u001b[0mpart\u001b[0m \u001b[0;34m=\u001b[0m \u001b[0mpartition\u001b[0m\u001b[0;34m(\u001b[0m\u001b[0ma\u001b[0m\u001b[0;34m,\u001b[0m \u001b[0mkth\u001b[0m\u001b[0;34m,\u001b[0m \u001b[0maxis\u001b[0m\u001b[0;34m=\u001b[0m\u001b[0maxis\u001b[0m\u001b[0;34m)\u001b[0m\u001b[0;34m\u001b[0m\u001b[0;34m\u001b[0m\u001b[0m\n\u001b[0m\u001b[1;32m   3529\u001b[0m \u001b[0;34m\u001b[0m\u001b[0m\n\u001b[1;32m   3530\u001b[0m     \u001b[0;32mif\u001b[0m \u001b[0mpart\u001b[0m\u001b[0;34m.\u001b[0m\u001b[0mshape\u001b[0m \u001b[0;34m==\u001b[0m \u001b[0;34m(\u001b[0m\u001b[0;34m)\u001b[0m\u001b[0;34m:\u001b[0m\u001b[0;34m\u001b[0m\u001b[0;34m\u001b[0m\u001b[0m\n",
      "\u001b[0;32m<__array_function__ internals>\u001b[0m in \u001b[0;36mpartition\u001b[0;34m(*args, **kwargs)\u001b[0m\n",
      "\u001b[0;32m~/opt/anaconda3/lib/python3.7/site-packages/numpy/core/fromnumeric.py\u001b[0m in \u001b[0;36mpartition\u001b[0;34m(a, kth, axis, kind, order)\u001b[0m\n\u001b[1;32m    744\u001b[0m     \u001b[0;32melse\u001b[0m\u001b[0;34m:\u001b[0m\u001b[0;34m\u001b[0m\u001b[0;34m\u001b[0m\u001b[0m\n\u001b[1;32m    745\u001b[0m         \u001b[0ma\u001b[0m \u001b[0;34m=\u001b[0m \u001b[0masanyarray\u001b[0m\u001b[0;34m(\u001b[0m\u001b[0ma\u001b[0m\u001b[0;34m)\u001b[0m\u001b[0;34m.\u001b[0m\u001b[0mcopy\u001b[0m\u001b[0;34m(\u001b[0m\u001b[0morder\u001b[0m\u001b[0;34m=\u001b[0m\u001b[0;34m\"K\"\u001b[0m\u001b[0;34m)\u001b[0m\u001b[0;34m\u001b[0m\u001b[0;34m\u001b[0m\u001b[0m\n\u001b[0;32m--> 746\u001b[0;31m     \u001b[0ma\u001b[0m\u001b[0;34m.\u001b[0m\u001b[0mpartition\u001b[0m\u001b[0;34m(\u001b[0m\u001b[0mkth\u001b[0m\u001b[0;34m,\u001b[0m \u001b[0maxis\u001b[0m\u001b[0;34m=\u001b[0m\u001b[0maxis\u001b[0m\u001b[0;34m,\u001b[0m \u001b[0mkind\u001b[0m\u001b[0;34m=\u001b[0m\u001b[0mkind\u001b[0m\u001b[0;34m,\u001b[0m \u001b[0morder\u001b[0m\u001b[0;34m=\u001b[0m\u001b[0morder\u001b[0m\u001b[0;34m)\u001b[0m\u001b[0;34m\u001b[0m\u001b[0;34m\u001b[0m\u001b[0m\n\u001b[0m\u001b[1;32m    747\u001b[0m     \u001b[0;32mreturn\u001b[0m \u001b[0ma\u001b[0m\u001b[0;34m\u001b[0m\u001b[0;34m\u001b[0m\u001b[0m\n\u001b[1;32m    748\u001b[0m \u001b[0;34m\u001b[0m\u001b[0m\n",
      "\u001b[0;31mTypeError\u001b[0m: '<' not supported between instances of 'dict' and 'dict'"
     ]
    }
   ],
   "source": [
    "print_median_CI(traces[1], prec=2)"
   ]
  },
  {
   "cell_type": "code",
   "execution_count": 49,
   "metadata": {},
   "outputs": [
    {
     "ename": "AttributeError",
     "evalue": "module 'trace' has no attribute 'new_cases_past'",
     "output_type": "error",
     "traceback": [
      "\u001b[0;31m---------------------------------------------------------------------------\u001b[0m",
      "\u001b[0;31mAttributeError\u001b[0m                            Traceback (most recent call last)",
      "\u001b[0;32m<ipython-input-49-c6385430760a>\u001b[0m in \u001b[0;36m<module>\u001b[0;34m\u001b[0m\n\u001b[1;32m     52\u001b[0m \u001b[0mstart_date\u001b[0m\u001b[0;34m,\u001b[0m \u001b[0mend_date\u001b[0m \u001b[0;34m=\u001b[0m \u001b[0mmpl_dates\u001b[0m\u001b[0;34m[\u001b[0m\u001b[0;36m0\u001b[0m\u001b[0;34m]\u001b[0m\u001b[0;34m,\u001b[0m \u001b[0mmpl_dates\u001b[0m\u001b[0;34m[\u001b[0m\u001b[0;34m-\u001b[0m\u001b[0;36m1\u001b[0m\u001b[0;34m]\u001b[0m\u001b[0;34m\u001b[0m\u001b[0;34m\u001b[0m\u001b[0m\n\u001b[1;32m     53\u001b[0m \u001b[0max\u001b[0m\u001b[0;34m.\u001b[0m\u001b[0mplot\u001b[0m\u001b[0;34m(\u001b[0m\u001b[0mmpl_dates\u001b[0m\u001b[0;34m,\u001b[0m \u001b[0mnp\u001b[0m\u001b[0;34m.\u001b[0m\u001b[0mdiff\u001b[0m\u001b[0;34m(\u001b[0m\u001b[0mcases_obs\u001b[0m\u001b[0;34m)\u001b[0m\u001b[0;34m,\u001b[0m \u001b[0;34m'd'\u001b[0m\u001b[0;34m,\u001b[0m \u001b[0mmarkersize\u001b[0m\u001b[0;34m=\u001b[0m\u001b[0;36m6\u001b[0m\u001b[0;34m,\u001b[0m \u001b[0mlabel\u001b[0m\u001b[0;34m=\u001b[0m\u001b[0;34m'Data'\u001b[0m\u001b[0;34m)\u001b[0m\u001b[0;34m\u001b[0m\u001b[0;34m\u001b[0m\u001b[0m\n\u001b[0;32m---> 54\u001b[0;31m \u001b[0mpercentiles\u001b[0m \u001b[0;34m=\u001b[0m \u001b[0mnp\u001b[0m\u001b[0;34m.\u001b[0m\u001b[0mpercentile\u001b[0m\u001b[0;34m(\u001b[0m\u001b[0mtrace\u001b[0m\u001b[0;34m.\u001b[0m\u001b[0mnew_cases_past\u001b[0m\u001b[0;34m,\u001b[0m \u001b[0mq\u001b[0m\u001b[0;34m=\u001b[0m\u001b[0;36m2.5\u001b[0m\u001b[0;34m,\u001b[0m \u001b[0maxis\u001b[0m\u001b[0;34m=\u001b[0m\u001b[0;36m0\u001b[0m\u001b[0;34m)\u001b[0m\u001b[0;34m,\u001b[0m \u001b[0mnp\u001b[0m\u001b[0;34m.\u001b[0m\u001b[0mpercentile\u001b[0m\u001b[0;34m(\u001b[0m\u001b[0mtrace\u001b[0m\u001b[0;34m.\u001b[0m\u001b[0mnew_cases_past\u001b[0m\u001b[0;34m,\u001b[0m \u001b[0mq\u001b[0m\u001b[0;34m=\u001b[0m\u001b[0;36m97.5\u001b[0m\u001b[0;34m,\u001b[0m \u001b[0maxis\u001b[0m\u001b[0;34m=\u001b[0m\u001b[0;36m0\u001b[0m\u001b[0;34m)\u001b[0m\u001b[0;34m\u001b[0m\u001b[0;34m\u001b[0m\u001b[0m\n\u001b[0m\u001b[1;32m     55\u001b[0m \u001b[0max\u001b[0m\u001b[0;34m.\u001b[0m\u001b[0mplot\u001b[0m\u001b[0;34m(\u001b[0m\u001b[0mmpl_dates\u001b[0m\u001b[0;34m,\u001b[0m \u001b[0mnp\u001b[0m\u001b[0;34m.\u001b[0m\u001b[0mmedian\u001b[0m\u001b[0;34m(\u001b[0m\u001b[0mtrace\u001b[0m\u001b[0;34m.\u001b[0m\u001b[0mnew_cases_past\u001b[0m\u001b[0;34m,\u001b[0m \u001b[0maxis\u001b[0m\u001b[0;34m=\u001b[0m\u001b[0;36m0\u001b[0m\u001b[0;34m)\u001b[0m\u001b[0;34m,\u001b[0m\u001b[0mcolor\u001b[0m\u001b[0;34m=\u001b[0m\u001b[0;34m'tab:orange'\u001b[0m\u001b[0;34m,\u001b[0m \u001b[0mlabel\u001b[0m\u001b[0;34m=\u001b[0m\u001b[0;34m'Fit (with 95% CI)'\u001b[0m\u001b[0;34m,\u001b[0m \u001b[0mlw\u001b[0m\u001b[0;34m=\u001b[0m\u001b[0;36m3\u001b[0m\u001b[0;34m)\u001b[0m\u001b[0;34m\u001b[0m\u001b[0;34m\u001b[0m\u001b[0m\n\u001b[1;32m     56\u001b[0m \u001b[0max\u001b[0m\u001b[0;34m.\u001b[0m\u001b[0mfill_between\u001b[0m\u001b[0;34m(\u001b[0m\u001b[0mmpl_dates\u001b[0m\u001b[0;34m,\u001b[0m \u001b[0mpercentiles\u001b[0m\u001b[0;34m[\u001b[0m\u001b[0;36m0\u001b[0m\u001b[0;34m]\u001b[0m\u001b[0;34m,\u001b[0m \u001b[0mpercentiles\u001b[0m\u001b[0;34m[\u001b[0m\u001b[0;36m1\u001b[0m\u001b[0;34m]\u001b[0m\u001b[0;34m,\u001b[0m \u001b[0malpha\u001b[0m\u001b[0;34m=\u001b[0m\u001b[0;36m0.3\u001b[0m\u001b[0;34m,\u001b[0m \u001b[0mcolor\u001b[0m\u001b[0;34m=\u001b[0m\u001b[0;34m'tab:orange'\u001b[0m\u001b[0;34m)\u001b[0m\u001b[0;34m\u001b[0m\u001b[0;34m\u001b[0m\u001b[0m\n",
      "\u001b[0;31mAttributeError\u001b[0m: module 'trace' has no attribute 'new_cases_past'"
     ]
    },
    {
     "data": {
      "image/png": "[encoded data removed]",
      "text/plain": [
       "<Figure size 612x612 with 10 Axes>"
      ]
     },
     "metadata": {
      "needs_background": "light"
     },
     "output_type": "display_data"
    }
   ],
   "source": [
    "def truncate_number(number, precision):\n",
    "    number = round(number, ndigits = precision)\n",
    "    #number = round(number - number%(10**(-precision)),10)\n",
    "    if precision == 0:\n",
    "        number = int(round(number))\n",
    "    return str(number)\n",
    "\n",
    "def print_median_CI(arr, prec = 2):\n",
    "    f_trunc = lambda n: truncate_number(n, prec)\n",
    "    med = f_trunc(np.median(arr))\n",
    "    perc1, perc2 = f_trunc(np.percentile(arr, q=2.5)), f_trunc(np.percentile(arr, q=97.5))\n",
    "    #print('The 95% CI of {} is [{:.3f} , {:.3f}] with a median of {:.3f}'.format(label, med, perc1, perc2))\n",
    "    return 'Median: {}\\nCI: [{}, {}]'.format(med, perc1, perc2)\n",
    "\n",
    "def conv_time_to_mpl_dates(arr):\n",
    "    return matplotlib.dates.date2num([datetime.timedelta(days=float(date)) + date_data_end for date in arr])\n",
    "\n",
    "#Definitions\n",
    "letter_size = 15\n",
    "ci_location = [0.95,0.9]\n",
    "alpha_texbox = 0.3\n",
    "font_text = 10\n",
    "\n",
    "#Making all square for simplicity\n",
    "len1 = 5\n",
    "len2 = 3\n",
    "\n",
    "fig = plt.figure(figsize=(8.5,8.5),constrained_layout=True)\n",
    "gs = fig.add_gridspec(15,11)\n",
    "\n",
    "ax_cases_new = fig.add_subplot(gs[0:len1,0:len1])\n",
    "ax_cases_total = fig.add_subplot(gs[len1:2*len1,0:len1])\n",
    "ax_error = fig.add_subplot(gs[2*len1:3*len1,0:len1])\n",
    "\n",
    "ax_param_infection  = fig.add_subplot(gs[0:len2,len1:len1+len2])\n",
    "ax_param_recovery = fig.add_subplot(gs[0:len2,len1+len2:len1+2*len2])\n",
    "\n",
    "ax_param_izero = fig.add_subplot(gs[len2:2*len2,len1:len1+len2])\n",
    "ax_param_delay = fig.add_subplot(gs[len2:2*len2,len1+len2:len1+2*len2])\n",
    "\n",
    "ax_param_width = fig.add_subplot(gs[2*len2:3*len2,len1:len1+len2])\n",
    "ax_param_effective_rate = fig.add_subplot(gs[2*len2:3*len2,len1+len2:len1+2*len2])\n",
    "\n",
    "ax_likelihood = fig.add_subplot(gs[3*len2:3*len1,len1:len1+2*len2])\n",
    "\n",
    "#Plots things\n",
    "pos_letter = (-0.2, 1.05)\n",
    "\n",
    "ax = ax_cases_new\n",
    "time = np.arange(-len(cases_obs)+1, 0)\n",
    "mpl_dates = conv_time_to_mpl_dates(time) \n",
    "start_date, end_date = mpl_dates[0], mpl_dates[-1]\n",
    "ax.plot(mpl_dates, np.diff(cases_obs), 'd', markersize=6, label='Data')\n",
    "percentiles = np.percentile(trace.new_cases_past, q=2.5, axis=0), np.percentile(trace.new_cases_past, q=97.5, axis=0)\n",
    "ax.plot(mpl_dates, np.median(trace.new_cases_past, axis=0),color='tab:orange', label='Fit (with 95% CI)', lw=3)\n",
    "ax.fill_between(mpl_dates, percentiles[0], percentiles[1], alpha=0.3, color='tab:orange')\n",
    "ax.set_yscale('log')\n",
    "ax.set_ylabel('Number of new cases')\n",
    "ax.set_xlabel('Date')\n",
    "ax.legend()\n",
    "ax.text(pos_letter[0], pos_letter[1], \"A\", transform=ax.transAxes, size=letter_size)\n",
    "ax.xaxis.set_major_locator(matplotlib.dates.AutoDateLocator())\n",
    "ax.xaxis.set_major_formatter(matplotlib.dates.DateFormatter('%-m/%-d'))\n",
    "ax.set_xlim(start_date, end_date)\n",
    "\n",
    "ax = ax_cases_total\n",
    "ax.plot(mpl_dates, cases_obs[1:], 'd', markersize=6, label='Data')\n",
    "cum_cases = np.cumsum(trace.new_cases_past, axis=1) + cases_obs[0]\n",
    "percentiles = np.percentile(cum_cases, q=2.5, axis=0), np.percentile(cum_cases, q=97.5, axis=0)\n",
    "ax.plot(mpl_dates, np.median(cum_cases, axis=0),color='tab:orange', label='Fit (with 95% CI)', lw=3)\n",
    "ax.fill_between(mpl_dates, percentiles[0], percentiles[1], alpha=0.3, color='tab:orange')\n",
    "ax.set_yscale('log')\n",
    "ax.set_ylabel('Total number of cases')\n",
    "ax.set_xlabel('Date')\n",
    "#ax.legend()\n",
    "ax.text(pos_letter[0], pos_letter[1], \"B\", transform=ax.transAxes, size=letter_size)\n",
    "ax.xaxis.set_major_locator(matplotlib.dates.AutoDateLocator())\n",
    "ax.xaxis.set_major_formatter(matplotlib.dates.DateFormatter('%-m/%-d'))\n",
    "ax.set_xlim(start_date, end_date)\n",
    "\n",
    "ax = ax_error\n",
    "ax.plot(mpl_dates, np.abs(np.median(trace.new_cases_past, axis=0) - np.diff(cases_obs)), \n",
    "        'd', markersize=6,\n",
    "         label='Absolute difference\\n'\n",
    "               'between fit and data')\n",
    "ax.plot(mpl_dates, np.sqrt(np.median(trace.new_cases_past, axis=0))*np.median(trace.σ_obs, axis=0),\n",
    "         label='Width of the likelihood', lw=3)\n",
    "ax.set_ylabel('Difference\\n(number of new cases)')\n",
    "ax.set_xlabel('Date')\n",
    "ax.legend(loc='upper left')\n",
    "print(np.median(np.sum(trace.new_cases_past[:, :-2], axis=1)+ trace.I_begin))\n",
    "ax.text(pos_letter[0], pos_letter[1], \"C\", transform=ax.transAxes, size=letter_size)\n",
    "#plt.tight_layout()\n",
    "ax.xaxis.set_major_locator(matplotlib.dates.AutoDateLocator())\n",
    "ax.xaxis.set_major_formatter(matplotlib.dates.DateFormatter('%-m/%-d'))\n",
    "ax.set_xlim(start_date, end_date)\n",
    "plt.savefig(path_to_save + 'check_fit_composed.png', dpi=300)\n",
    "\n",
    "ax = ax_param_infection\n",
    "ax.hist(trace.λ, bins=50, density=True, color='tab:orange',\n",
    "        label='Posterior')\n",
    "limits = ax.get_xlim()\n",
    "x = np.linspace(*limits, num=100)\n",
    "ax.plot(x, scipy.stats.lognorm.pdf(x, scale=0.4, s=0.5), label='Prior',\n",
    "        color=\"#708090\", linewidth=3)\n",
    "ax.set_xlim(*limits)\n",
    "ax.set_ylabel('Density')\n",
    "ax.set_xlabel('Infection rate $\\lambda$')\n",
    "text = print_median_CI(trace.λ, prec=2)\n",
    "ax.text(ci_location[0], ci_location[1], text, horizontalalignment='right',\n",
    "      verticalalignment='top', transform=ax.transAxes,  bbox=dict(facecolor='white', alpha=alpha_texbox,edgecolor='none'),fontsize=font_text)\n",
    "ax.text(pos_letter[0], pos_letter[1], \"D\", transform=ax.transAxes, size=letter_size)\n",
    "#ax.legend(loc='upper right')\n",
    "\n",
    "ax = ax_param_recovery\n",
    "ax.hist(trace.μ, bins=50, density=True, color='tab:orange',\n",
    "        label='Posterior')\n",
    "limits = ax.get_xlim()\n",
    "x = np.linspace(*limits, num=100)\n",
    "ax.plot(x, scipy.stats.lognorm.pdf(x, scale=1/8, s=0.2), label='Prior',\n",
    "        color=\"#708090\", linewidth=3)\n",
    "ax.set_xlim(*limits)\n",
    "ax.set_ylabel('Density')\n",
    "ax.set_xlabel('Recovery rate $\\mu$')\n",
    "text = print_median_CI(trace.μ, prec=2)\n",
    "ax.text(ci_location[0], ci_location[1], text, horizontalalignment='right',\n",
    "      verticalalignment='top', transform=ax.transAxes,  bbox=dict(facecolor='white', alpha=alpha_texbox,edgecolor='none'),fontsize=font_text)\n",
    "ax.text(pos_letter[0], pos_letter[1], \"E\", transform=ax.transAxes, size=letter_size)\n",
    "#ax.legend(loc='upper right')\n",
    "\n",
    "ax = ax_param_effective_rate\n",
    "ax.locator_params(nbins=5)\n",
    "#bins = np.linspace(-0.11, 0.304, 200)\n",
    "ax.hist((trace.λ - trace.μ)*100, bins=50, color='tab:orange')\n",
    "ax.set_xlabel('Eff. growth rate $\\lambda^* = \\lambda - \\mu$ (%)')#\\n'\n",
    "          #'inferred from data - from {} to {}'.format(date_data_begin.isoformat(), \n",
    "          #                                            date_data_end.isoformat()))\n",
    "ax.set_ylabel('Number of Monte-Carlo samples')\n",
    "text = print_median_CI((trace.λ - trace.μ)*100, prec=0)\n",
    "ax.text(ci_location[0], ci_location[1], text, horizontalalignment='right',\n",
    "      verticalalignment='top', transform=ax.transAxes,  bbox=dict(facecolor='white', alpha=alpha_texbox,edgecolor='none'),fontsize=font_text)\n",
    "ax.text(pos_letter[0], pos_letter[1], \"I\", transform=ax.transAxes, size=letter_size)\n",
    "\n",
    "ax = ax_param_delay\n",
    "ax.hist(trace.delay, bins=50, density=True, color='tab:orange',\n",
    "        label='Posterior')\n",
    "limits = ax.get_xlim()\n",
    "x = np.linspace(*limits, num=100)\n",
    "ax.plot(x, scipy.stats.lognorm.pdf(x, scale=8, s=0.2), label='Prior',\n",
    "        color=\"#708090\", linewidth=3)\n",
    "ax.set_xlim(*limits)\n",
    "ax.set_ylabel('Density')\n",
    "ax.set_xlabel('Delay $D$')\n",
    "text = print_median_CI(trace.delay, prec=1)\n",
    "ax.text(ci_location[0], ci_location[1], text, horizontalalignment='right',\n",
    "      verticalalignment='top', transform=ax.transAxes,  bbox=dict(facecolor='white', alpha=alpha_texbox,edgecolor='none'),fontsize=font_text)\n",
    "#ax.legend(loc='upper right')\n",
    "ax.text(pos_letter[0], pos_letter[1], \"G\", transform=ax.transAxes, size=letter_size)\n",
    "\n",
    "ax = ax_param_width\n",
    "ax.hist(trace.σ_obs, bins=50, color='tab:orange', density=True, label='Posterior')\n",
    "ax.set_ylabel('Density')\n",
    "ax.set_xlabel(\"Scale factor $\\sigma$ of likelihood\")\n",
    "limits = ax.get_xlim()\n",
    "x = np.linspace(*limits, num=100)\n",
    "ax.plot(x, scipy.stats.halfcauchy.pdf(x, scale=10), label='Prior',\n",
    "        color=\"#708090\", linewidth=3)\n",
    "ax.set_xlim(*limits)\n",
    "text = print_median_CI(trace.σ_obs, prec=1)\n",
    "ax.text(ci_location[0], ci_location[1], text, horizontalalignment='right',\n",
    "      verticalalignment='top', transform=ax.transAxes,  bbox=dict(facecolor='white', alpha=alpha_texbox,edgecolor='none'),fontsize=font_text)\n",
    "#ax.legend(loc='upper right')\n",
    "ax.text(pos_letter[0], pos_letter[1], \"H\", transform=ax.transAxes, size=letter_size)\n",
    "\n",
    "ax = ax_param_izero\n",
    "ax.hist(trace.I_begin, bins=50, color='tab:orange', density=True, label='Posterior')\n",
    "ax.set_ylabel('Density')\n",
    "ax.set_xlabel('Number of infections at begin $I_0$')\n",
    "limits = ax.get_xlim()\n",
    "x = np.linspace(*limits, num=5000)\n",
    "ax.plot(x, scipy.stats.halfcauchy.pdf(x, scale=100), label='Prior',\n",
    "        color=\"#708090\", linewidth=3)\n",
    "ax.set_xlim(*limits)\n",
    "ax.set_xlim(0)\n",
    "text = print_median_CI(trace.I_begin, prec=0)\n",
    "ax.text(ci_location[0], ci_location[1], text, horizontalalignment='right',\n",
    "      verticalalignment='top', transform=ax.transAxes,  bbox=dict(facecolor='white', alpha=alpha_texbox,edgecolor='none'),fontsize=font_text)\n",
    "ax.legend(loc='lower right')\n",
    "ax.text(pos_letter[0], pos_letter[1], \"F\", transform=ax.transAxes, size=letter_size)\n",
    "\n",
    "ax = ax_likelihood\n",
    "ax.locator_params(nbins=5)\n",
    "μ_arr = np.linspace(0.02, 0.3, 25)\n",
    "#λ_arr = np.linspace(0.2, 0.6, 25)\n",
    "matrix = pickle.load(open(path_data + 'likelihood_matrix.pickled', 'rb'))\n",
    "#matrix has [i,j] = [lambda,mu] with i rows -> rows for imshow are y\n",
    "#so mu is on x axis...as we want to\n",
    "im_mat = []\n",
    "print(matrix.shape)\n",
    "for row in matrix:\n",
    "    im_mat.append([])\n",
    "    for elem in row:\n",
    "        if elem is not None:\n",
    "            im_mat[-1].append(elem['logp'])\n",
    "        else: im_mat[-1].append(np.nan)\n",
    "#fig, ax1 = plt.subplots(1,1)\n",
    "#im = ax1.imshow(im_mat, origin='lower', extent=[0.02, 0.3, 0.2, 0.6], aspect=0.5)\n",
    "#plt.colorbar()\n",
    "#heatmap = ax.imshow(im_mat, origin='lower', extent=[0.02, 0.3, 0.2, 0.6], aspect=0.71)\n",
    "#heatmap = ax.imshow(im_mat, origin='lower', extent=[0.02, 0.3, 0.2, 0.6])\n",
    "heatmap = ax.imshow(im_mat,origin='lower',extent=[0.02, 0.3, 0.2, 0.6], aspect='auto')\n",
    "pos = ax.get_position()\n",
    "#cbaxes = fig.add_axes([0.43, pos.y0, 0.02, pos.y1-pos.y0])\n",
    "#cbar = fig.colorbar(heatmap, cbaxes)\n",
    "#cbar.set_label('log-likelihood')\n",
    "ax.plot(μ_arr, μ_arr+0.30, color='black')\n",
    "cbar = plt.colorbar(heatmap)\n",
    "cbar.set_label('log-likelihood')\n",
    "ax.set_ylabel('spreading rate $\\lambda$')\n",
    "ax.set_xlabel('recovery rate $\\mu$')\n",
    "ax.text(pos_letter[0], pos_letter[1], \"J\", transform=ax.transAxes, size=letter_size)\n",
    "#ax.set_anchor('NW')\n",
    "\n",
    "#Removes ylabels from D-I\n",
    "ax_params = [ax_param_infection,ax_param_recovery, ax_param_effective_rate, ax_param_delay,ax_param_width,ax_param_izero]\n",
    "for ax in ax_params:\n",
    "  ax.set_yticks([], [])\n",
    "  ax.set_ylabel('')\n",
    "\n",
    "#gs.update(wspace=0.9, hspace=0.9)\n",
    "#gs.update()\n",
    "#plt.tight_layout()\n",
    "\n",
    "plt.savefig(path_to_save+'Fig_1.png')\n",
    "plt.savefig(path_to_save+'Fig_1.pdf')"
   ]
  },
  {
   "cell_type": "code",
   "execution_count": null,
   "metadata": {},
   "outputs": [],
   "source": []
  }
 ],
 "metadata": {
  "kernelspec": {
   "display_name": "Python 3",
   "language": "python",
   "name": "python3"
  },
  "language_info": {
   "codemirror_mode": {
    "name": "ipython",
    "version": 3
   },
   "file_extension": ".py",
   "mimetype": "text/x-python",
   "name": "python",
   "nbconvert_exporter": "python",
   "pygments_lexer": "ipython3",
   "version": "3.7.6"
  }
 },
 "nbformat": 4,
 "nbformat_minor": 4
}
